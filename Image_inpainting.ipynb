{
  "nbformat": 4,
  "nbformat_minor": 0,
  "metadata": {
    "colab": {
      "provenance": [],
      "mount_file_id": "https://github.com/BoKna031/Image_inpainting/blob/master/Image_inpainting.ipynb",
      "authorship_tag": "ABX9TyO9FXrj4IO08A/meK5Jzv2l",
      "include_colab_link": true
    },
    "kernelspec": {
      "name": "python3",
      "display_name": "Python 3"
    },
    "language_info": {
      "name": "python"
    }
  },
  "cells": [
    {
      "cell_type": "markdown",
      "metadata": {
        "id": "view-in-github",
        "colab_type": "text"
      },
      "source": [
        "<a href=\"https://colab.research.google.com/github/BoKna031/Image_inpainting/blob/master/Image_inpainting.ipynb\" target=\"_parent\"><img src=\"https://colab.research.google.com/assets/colab-badge.svg\" alt=\"Open In Colab\"/></a>"
      ]
    },
    {
      "cell_type": "markdown",
      "source": [
        "# Connect to Kaggle dataset"
      ],
      "metadata": {
        "id": "BvAMCySwiWzx"
      }
    },
    {
      "cell_type": "code",
      "execution_count": 1,
      "metadata": {
        "id": "4Kz3jYZ_e5jS",
        "outputId": "bc783e40-b024-490d-ff60-e146a9a16273",
        "colab": {
          "base_uri": "https://localhost:8080/"
        }
      },
      "outputs": [
        {
          "output_type": "stream",
          "name": "stdout",
          "text": [
            "mkdir: cannot create directory ‘/root/.kaggle’: File exists\n",
            "cp: cannot stat 'kaggle.json': No such file or directory\n",
            "chmod: cannot access '/root/.kaggle/kaggle.json': No such file or directory\n"
          ]
        }
      ],
      "source": [
        "! pip install -q kaggle\n",
        "! mkdir ~/.kaggle\n",
        "! cp kaggle.json ~/.kaggle/\n",
        "! chmod 600 ~/.kaggle/kaggle.json\n",
        "#! kaggle datasets list"
      ]
    },
    {
      "cell_type": "code",
      "source": [
        "!kaggle datasets download -d amanara/photos"
      ],
      "metadata": {
        "id": "fQ5nH5PiigSi",
        "outputId": "6ad5bc56-5baa-4c37-8c8d-3974486f9ee9",
        "colab": {
          "base_uri": "https://localhost:8080/"
        }
      },
      "execution_count": 2,
      "outputs": [
        {
          "output_type": "stream",
          "name": "stdout",
          "text": [
            "Dataset URL: https://www.kaggle.com/datasets/amanara/photos\n",
            "License(s): unknown\n",
            "photos.zip: Skipping, found more recently modified local copy (use --force to force download)\n"
          ]
        }
      ]
    },
    {
      "cell_type": "code",
      "source": [
        "!unzip photos.zip;"
      ],
      "metadata": {
        "id": "0TMtioD6jBRk",
        "outputId": "ec559bb2-1eb3-4fd9-b2ba-c9a56bd08ba0",
        "colab": {
          "base_uri": "https://localhost:8080/"
        }
      },
      "execution_count": 3,
      "outputs": [
        {
          "output_type": "stream",
          "name": "stdout",
          "text": [
            "Archive:  photos.zip\n",
            "replace Dataset/Testing_Data/Cat-Train (1).png? [y]es, [n]o, [A]ll, [N]one, [r]ename: N\n"
          ]
        }
      ]
    },
    {
      "cell_type": "markdown",
      "source": [
        "# Data preparation"
      ],
      "metadata": {
        "id": "cQfLL1RukasJ"
      }
    },
    {
      "cell_type": "code",
      "source": [
        "import os\n",
        "import cv2\n",
        "import pandas as pd\n",
        "import matplotlib.pyplot as plt\n",
        "\n",
        "TRAIN = 'Train'\n",
        "TEST = 'Test'\n",
        "img_size = (64, 64)\n",
        "\n",
        "def load_training_dataset(category):\n",
        "  TRAINING_DATA_FOLDER = os.path.join('Dataset', 'Training_Data', category)\n",
        "  x_doc = os.path.join('Dataset', 'Training_Data', category, 'Masked_Train')\n",
        "  x_imgs = _load_images_from_folder(x_doc, category, TRAIN)\n",
        "  y_doc = os.path.join('Dataset', 'Training_Data', category, 'Unmasked_Train')\n",
        "  y_imgs = _load_images_from_folder(y_doc, category, TRAIN)\n",
        "  csv_file = pd.read_csv(os.path.join(TRAINING_DATA_FOLDER, 'masked_info.csv'))\n",
        "  adjust_box_coordinate(csv_file)\n",
        "  return x_imgs, y_imgs, csv_file\n",
        "\n",
        "def adjust_box_coordinate(csv_df):\n",
        "  ORG_IMG_SIZE = (256,256)\n",
        "  scale_xy = img_size[0] / ORG_IMG_SIZE[0]\n",
        "  csv_df[['box1_row', 'box1_col', 'box2_row', 'box2_col']] = (csv_df[['box1_row', 'box1_col', 'box2_row', 'box2_col']] * scale_xy).astype(int)\n",
        "\n",
        "\n",
        "def _load_images_from_folder(folder, category, set_type):\n",
        "    images = []\n",
        "    for filename in os.listdir(folder):\n",
        "            img = cv2.imread(os.path.join(folder, filename))\n",
        "            img = cv2.resize(img, img_size)\n",
        "            if img is not None:\n",
        "              id, format = _parse_filename(filename)\n",
        "              images.append({'filename': filename, 'category': category, 'id': id, 'set_type': set_type, 'format': format, 'image': img})\n",
        "    images_df = pd.DataFrame(images, columns=['filename', 'category', 'id', 'set_type', 'format', 'image'])\n",
        "    return images_df\n",
        "\n",
        "import re\n",
        "\n",
        "def _parse_filename(filename):\n",
        "    regex_pattern = r'.*\\((\\d+)\\)\\.(\\w+)$'\n",
        "\n",
        "    match = re.match(regex_pattern, filename)\n",
        "\n",
        "    if match:\n",
        "        id = int(match.group(1))\n",
        "        format =  match.group(2)\n",
        "        return id, format\n",
        "    else:\n",
        "        return  None, None\n",
        "\n",
        "def show_img(img, gray = False):\n",
        "  if gray:\n",
        "    plt.imshow(img, 'gray')\n",
        "  else:\n",
        "    plt.imshow(img)\n",
        "  plt.axis('off')\n",
        "  plt.show()\n"
      ],
      "metadata": {
        "id": "ZeT6LgXzjLku"
      },
      "execution_count": 4,
      "outputs": []
    },
    {
      "cell_type": "code",
      "source": [
        "categories = ['Cat', 'Dog', 'Elephant', 'Tiger']"
      ],
      "metadata": {
        "id": "wVlCRIZBqi-z"
      },
      "execution_count": 5,
      "outputs": []
    },
    {
      "cell_type": "markdown",
      "source": [
        "# Data analyzing"
      ],
      "metadata": {
        "id": "PPg0h5Cn3ymS"
      }
    },
    {
      "cell_type": "code",
      "source": [
        "category = categories[0]\n",
        "_, y, csv = load_training_dataset(category)\n",
        "x_size = y['image'].apply(lambda img: pd.Series({'rows':img.shape[0], 'cols': img.shape[1]})).groupby(['rows','cols']).size()\n",
        "print(f\"{category}\\n---------------------------\")\n",
        "print(\"total size = \",y.shape[0])\n",
        "print(x_size)"
      ],
      "metadata": {
        "id": "gQ2pgD6Q3_DY",
        "outputId": "a91d8bcd-bd3c-4952-c01f-1d348f01b34c",
        "colab": {
          "base_uri": "https://localhost:8080/"
        }
      },
      "execution_count": 6,
      "outputs": [
        {
          "output_type": "stream",
          "name": "stdout",
          "text": [
            "Cat\n",
            "---------------------------\n",
            "total size =  1750\n",
            "rows  cols\n",
            "64    64      1750\n",
            "dtype: int64\n"
          ]
        }
      ]
    },
    {
      "cell_type": "markdown",
      "source": [
        "From the shown, it can be seen that all the images are of size 168x168"
      ],
      "metadata": {
        "id": "eQEIwWFz50Gf"
      }
    },
    {
      "cell_type": "code",
      "source": [
        "y.iloc[0]['image']"
      ],
      "metadata": {
        "id": "kfPCKtOjgYBw",
        "outputId": "1636ae43-f0ad-49c3-f05b-4cc55c19594f",
        "colab": {
          "base_uri": "https://localhost:8080/",
          "height": 104
        }
      },
      "execution_count": 7,
      "outputs": [
        {
          "output_type": "execute_result",
          "data": {
            "text/plain": [
              "array([[[133, 114,   3],\n",
              "        [134, 116,   3],\n",
              "        [135, 117,   2],\n",
              "        ...,\n",
              "        [131, 117,   9],\n",
              "        [131, 117,   9],\n",
              "        [131, 117,   9]],\n",
              "\n",
              "       [[134, 115,   4],\n",
              "        [135, 117,   4],\n",
              "        [135, 117,   2],\n",
              "        ...,\n",
              "        [135, 119,   9],\n",
              "        [135, 119,   9],\n",
              "        [135, 119,   9]],\n",
              "\n",
              "       [[134, 115,   4],\n",
              "        [136, 118,   5],\n",
              "        [136, 118,   3],\n",
              "        ...,\n",
              "        [137, 119,   8],\n",
              "        [137, 119,   8],\n",
              "        [137, 119,   8]],\n",
              "\n",
              "       ...,\n",
              "\n",
              "       [[149, 134,   9],\n",
              "        [148, 132,   8],\n",
              "        [148, 133,   8],\n",
              "        ...,\n",
              "        [158, 143,   9],\n",
              "        [160, 146,  12],\n",
              "        [163, 148,  15]],\n",
              "\n",
              "       [[148, 133,   7],\n",
              "        [148, 133,   7],\n",
              "        [147, 132,   6],\n",
              "        ...,\n",
              "        [156, 140,   4],\n",
              "        [157, 141,   4],\n",
              "        [163, 147,  10]],\n",
              "\n",
              "       [[146, 132,   2],\n",
              "        [146, 132,   2],\n",
              "        [147, 133,   3],\n",
              "        ...,\n",
              "        [156, 137,   5],\n",
              "        [157, 138,   6],\n",
              "        [163, 144,  12]]], dtype=uint8)"
            ],
            "text/html": [
              "<style>\n",
              "      .ndarray_repr .ndarray_raw_data {\n",
              "        display: none;\n",
              "      }\n",
              "      .ndarray_repr.show_array .ndarray_raw_data {\n",
              "        display: block;\n",
              "      }\n",
              "      .ndarray_repr.show_array .ndarray_image_preview {\n",
              "        display: none;\n",
              "      }\n",
              "      </style>\n",
              "      <div id=\"id-7c9867ec-205a-4015-a7b3-c8ef7a40f96b\" class=\"ndarray_repr\"><pre>ndarray (64, 64, 3) <button style=\"padding: 0 2px;\">show data</button></pre><img src=\"data:image/png;base64,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\" class=\"ndarray_image_preview\" /><pre class=\"ndarray_raw_data\">array([[[133, 114,   3],\n",
              "        [134, 116,   3],\n",
              "        [135, 117,   2],\n",
              "        ...,\n",
              "        [131, 117,   9],\n",
              "        [131, 117,   9],\n",
              "        [131, 117,   9]],\n",
              "\n",
              "       [[134, 115,   4],\n",
              "        [135, 117,   4],\n",
              "        [135, 117,   2],\n",
              "        ...,\n",
              "        [135, 119,   9],\n",
              "        [135, 119,   9],\n",
              "        [135, 119,   9]],\n",
              "\n",
              "       [[134, 115,   4],\n",
              "        [136, 118,   5],\n",
              "        [136, 118,   3],\n",
              "        ...,\n",
              "        [137, 119,   8],\n",
              "        [137, 119,   8],\n",
              "        [137, 119,   8]],\n",
              "\n",
              "       ...,\n",
              "\n",
              "       [[149, 134,   9],\n",
              "        [148, 132,   8],\n",
              "        [148, 133,   8],\n",
              "        ...,\n",
              "        [158, 143,   9],\n",
              "        [160, 146,  12],\n",
              "        [163, 148,  15]],\n",
              "\n",
              "       [[148, 133,   7],\n",
              "        [148, 133,   7],\n",
              "        [147, 132,   6],\n",
              "        ...,\n",
              "        [156, 140,   4],\n",
              "        [157, 141,   4],\n",
              "        [163, 147,  10]],\n",
              "\n",
              "       [[146, 132,   2],\n",
              "        [146, 132,   2],\n",
              "        [147, 133,   3],\n",
              "        ...,\n",
              "        [156, 137,   5],\n",
              "        [157, 138,   6],\n",
              "        [163, 144,  12]]], dtype=uint8)</pre></div><script>\n",
              "      (() => {\n",
              "      const titles = ['show data', 'hide data'];\n",
              "      let index = 0\n",
              "      document.querySelector('#id-7c9867ec-205a-4015-a7b3-c8ef7a40f96b button').onclick = (e) => {\n",
              "        document.querySelector('#id-7c9867ec-205a-4015-a7b3-c8ef7a40f96b').classList.toggle('show_array');\n",
              "        index = (++index) % 2;\n",
              "        document.querySelector('#id-7c9867ec-205a-4015-a7b3-c8ef7a40f96b button').textContent = titles[index];\n",
              "        e.preventDefault();\n",
              "        e.stopPropagation();\n",
              "      }\n",
              "      })();\n",
              "    </script>"
            ]
          },
          "metadata": {},
          "execution_count": 7
        }
      ]
    },
    {
      "cell_type": "code",
      "source": [
        "csv.head()"
      ],
      "metadata": {
        "id": "1FC1ec9j65wE",
        "outputId": "a31c28b1-bf4e-4b9c-dac0-60393b168546",
        "colab": {
          "base_uri": "https://localhost:8080/",
          "height": 206
        }
      },
      "execution_count": 8,
      "outputs": [
        {
          "output_type": "execute_result",
          "data": {
            "text/plain": [
              "   Unnamed: 0               filename  box1_row  box1_col  box2_row  box2_col\n",
              "0           0  Cat-Train (1085).jpeg        16         1        10        38\n",
              "1           1   Cat-Train (900).jpeg        21         5        26        41\n",
              "2           2  Cat-Train (1759).jpeg        15        24         0        35\n",
              "3           3   Cat-Train (969).jpeg         3        34        11        34\n",
              "4           4  Cat-Train (1559).jpeg        26        23        10        39"
            ],
            "text/html": [
              "\n",
              "  <div id=\"df-30e5f9e4-c6bb-4c72-8a91-a3be35b3bcc7\" class=\"colab-df-container\">\n",
              "    <div>\n",
              "<style scoped>\n",
              "    .dataframe tbody tr th:only-of-type {\n",
              "        vertical-align: middle;\n",
              "    }\n",
              "\n",
              "    .dataframe tbody tr th {\n",
              "        vertical-align: top;\n",
              "    }\n",
              "\n",
              "    .dataframe thead th {\n",
              "        text-align: right;\n",
              "    }\n",
              "</style>\n",
              "<table border=\"1\" class=\"dataframe\">\n",
              "  <thead>\n",
              "    <tr style=\"text-align: right;\">\n",
              "      <th></th>\n",
              "      <th>Unnamed: 0</th>\n",
              "      <th>filename</th>\n",
              "      <th>box1_row</th>\n",
              "      <th>box1_col</th>\n",
              "      <th>box2_row</th>\n",
              "      <th>box2_col</th>\n",
              "    </tr>\n",
              "  </thead>\n",
              "  <tbody>\n",
              "    <tr>\n",
              "      <th>0</th>\n",
              "      <td>0</td>\n",
              "      <td>Cat-Train (1085).jpeg</td>\n",
              "      <td>16</td>\n",
              "      <td>1</td>\n",
              "      <td>10</td>\n",
              "      <td>38</td>\n",
              "    </tr>\n",
              "    <tr>\n",
              "      <th>1</th>\n",
              "      <td>1</td>\n",
              "      <td>Cat-Train (900).jpeg</td>\n",
              "      <td>21</td>\n",
              "      <td>5</td>\n",
              "      <td>26</td>\n",
              "      <td>41</td>\n",
              "    </tr>\n",
              "    <tr>\n",
              "      <th>2</th>\n",
              "      <td>2</td>\n",
              "      <td>Cat-Train (1759).jpeg</td>\n",
              "      <td>15</td>\n",
              "      <td>24</td>\n",
              "      <td>0</td>\n",
              "      <td>35</td>\n",
              "    </tr>\n",
              "    <tr>\n",
              "      <th>3</th>\n",
              "      <td>3</td>\n",
              "      <td>Cat-Train (969).jpeg</td>\n",
              "      <td>3</td>\n",
              "      <td>34</td>\n",
              "      <td>11</td>\n",
              "      <td>34</td>\n",
              "    </tr>\n",
              "    <tr>\n",
              "      <th>4</th>\n",
              "      <td>4</td>\n",
              "      <td>Cat-Train (1559).jpeg</td>\n",
              "      <td>26</td>\n",
              "      <td>23</td>\n",
              "      <td>10</td>\n",
              "      <td>39</td>\n",
              "    </tr>\n",
              "  </tbody>\n",
              "</table>\n",
              "</div>\n",
              "    <div class=\"colab-df-buttons\">\n",
              "\n",
              "  <div class=\"colab-df-container\">\n",
              "    <button class=\"colab-df-convert\" onclick=\"convertToInteractive('df-30e5f9e4-c6bb-4c72-8a91-a3be35b3bcc7')\"\n",
              "            title=\"Convert this dataframe to an interactive table.\"\n",
              "            style=\"display:none;\">\n",
              "\n",
              "  <svg xmlns=\"http://www.w3.org/2000/svg\" height=\"24px\" viewBox=\"0 -960 960 960\">\n",
              "    <path d=\"M120-120v-720h720v720H120Zm60-500h600v-160H180v160Zm220 220h160v-160H400v160Zm0 220h160v-160H400v160ZM180-400h160v-160H180v160Zm440 0h160v-160H620v160ZM180-180h160v-160H180v160Zm440 0h160v-160H620v160Z\"/>\n",
              "  </svg>\n",
              "    </button>\n",
              "\n",
              "  <style>\n",
              "    .colab-df-container {\n",
              "      display:flex;\n",
              "      gap: 12px;\n",
              "    }\n",
              "\n",
              "    .colab-df-convert {\n",
              "      background-color: #E8F0FE;\n",
              "      border: none;\n",
              "      border-radius: 50%;\n",
              "      cursor: pointer;\n",
              "      display: none;\n",
              "      fill: #1967D2;\n",
              "      height: 32px;\n",
              "      padding: 0 0 0 0;\n",
              "      width: 32px;\n",
              "    }\n",
              "\n",
              "    .colab-df-convert:hover {\n",
              "      background-color: #E2EBFA;\n",
              "      box-shadow: 0px 1px 2px rgba(60, 64, 67, 0.3), 0px 1px 3px 1px rgba(60, 64, 67, 0.15);\n",
              "      fill: #174EA6;\n",
              "    }\n",
              "\n",
              "    .colab-df-buttons div {\n",
              "      margin-bottom: 4px;\n",
              "    }\n",
              "\n",
              "    [theme=dark] .colab-df-convert {\n",
              "      background-color: #3B4455;\n",
              "      fill: #D2E3FC;\n",
              "    }\n",
              "\n",
              "    [theme=dark] .colab-df-convert:hover {\n",
              "      background-color: #434B5C;\n",
              "      box-shadow: 0px 1px 3px 1px rgba(0, 0, 0, 0.15);\n",
              "      filter: drop-shadow(0px 1px 2px rgba(0, 0, 0, 0.3));\n",
              "      fill: #FFFFFF;\n",
              "    }\n",
              "  </style>\n",
              "\n",
              "    <script>\n",
              "      const buttonEl =\n",
              "        document.querySelector('#df-30e5f9e4-c6bb-4c72-8a91-a3be35b3bcc7 button.colab-df-convert');\n",
              "      buttonEl.style.display =\n",
              "        google.colab.kernel.accessAllowed ? 'block' : 'none';\n",
              "\n",
              "      async function convertToInteractive(key) {\n",
              "        const element = document.querySelector('#df-30e5f9e4-c6bb-4c72-8a91-a3be35b3bcc7');\n",
              "        const dataTable =\n",
              "          await google.colab.kernel.invokeFunction('convertToInteractive',\n",
              "                                                    [key], {});\n",
              "        if (!dataTable) return;\n",
              "\n",
              "        const docLinkHtml = 'Like what you see? Visit the ' +\n",
              "          '<a target=\"_blank\" href=https://colab.research.google.com/notebooks/data_table.ipynb>data table notebook</a>'\n",
              "          + ' to learn more about interactive tables.';\n",
              "        element.innerHTML = '';\n",
              "        dataTable['output_type'] = 'display_data';\n",
              "        await google.colab.output.renderOutput(dataTable, element);\n",
              "        const docLink = document.createElement('div');\n",
              "        docLink.innerHTML = docLinkHtml;\n",
              "        element.appendChild(docLink);\n",
              "      }\n",
              "    </script>\n",
              "  </div>\n",
              "\n",
              "\n",
              "<div id=\"df-812634a1-3dde-4fad-bf90-b657abada0e2\">\n",
              "  <button class=\"colab-df-quickchart\" onclick=\"quickchart('df-812634a1-3dde-4fad-bf90-b657abada0e2')\"\n",
              "            title=\"Suggest charts\"\n",
              "            style=\"display:none;\">\n",
              "\n",
              "<svg xmlns=\"http://www.w3.org/2000/svg\" height=\"24px\"viewBox=\"0 0 24 24\"\n",
              "     width=\"24px\">\n",
              "    <g>\n",
              "        <path d=\"M19 3H5c-1.1 0-2 .9-2 2v14c0 1.1.9 2 2 2h14c1.1 0 2-.9 2-2V5c0-1.1-.9-2-2-2zM9 17H7v-7h2v7zm4 0h-2V7h2v10zm4 0h-2v-4h2v4z\"/>\n",
              "    </g>\n",
              "</svg>\n",
              "  </button>\n",
              "\n",
              "<style>\n",
              "  .colab-df-quickchart {\n",
              "      --bg-color: #E8F0FE;\n",
              "      --fill-color: #1967D2;\n",
              "      --hover-bg-color: #E2EBFA;\n",
              "      --hover-fill-color: #174EA6;\n",
              "      --disabled-fill-color: #AAA;\n",
              "      --disabled-bg-color: #DDD;\n",
              "  }\n",
              "\n",
              "  [theme=dark] .colab-df-quickchart {\n",
              "      --bg-color: #3B4455;\n",
              "      --fill-color: #D2E3FC;\n",
              "      --hover-bg-color: #434B5C;\n",
              "      --hover-fill-color: #FFFFFF;\n",
              "      --disabled-bg-color: #3B4455;\n",
              "      --disabled-fill-color: #666;\n",
              "  }\n",
              "\n",
              "  .colab-df-quickchart {\n",
              "    background-color: var(--bg-color);\n",
              "    border: none;\n",
              "    border-radius: 50%;\n",
              "    cursor: pointer;\n",
              "    display: none;\n",
              "    fill: var(--fill-color);\n",
              "    height: 32px;\n",
              "    padding: 0;\n",
              "    width: 32px;\n",
              "  }\n",
              "\n",
              "  .colab-df-quickchart:hover {\n",
              "    background-color: var(--hover-bg-color);\n",
              "    box-shadow: 0 1px 2px rgba(60, 64, 67, 0.3), 0 1px 3px 1px rgba(60, 64, 67, 0.15);\n",
              "    fill: var(--button-hover-fill-color);\n",
              "  }\n",
              "\n",
              "  .colab-df-quickchart-complete:disabled,\n",
              "  .colab-df-quickchart-complete:disabled:hover {\n",
              "    background-color: var(--disabled-bg-color);\n",
              "    fill: var(--disabled-fill-color);\n",
              "    box-shadow: none;\n",
              "  }\n",
              "\n",
              "  .colab-df-spinner {\n",
              "    border: 2px solid var(--fill-color);\n",
              "    border-color: transparent;\n",
              "    border-bottom-color: var(--fill-color);\n",
              "    animation:\n",
              "      spin 1s steps(1) infinite;\n",
              "  }\n",
              "\n",
              "  @keyframes spin {\n",
              "    0% {\n",
              "      border-color: transparent;\n",
              "      border-bottom-color: var(--fill-color);\n",
              "      border-left-color: var(--fill-color);\n",
              "    }\n",
              "    20% {\n",
              "      border-color: transparent;\n",
              "      border-left-color: var(--fill-color);\n",
              "      border-top-color: var(--fill-color);\n",
              "    }\n",
              "    30% {\n",
              "      border-color: transparent;\n",
              "      border-left-color: var(--fill-color);\n",
              "      border-top-color: var(--fill-color);\n",
              "      border-right-color: var(--fill-color);\n",
              "    }\n",
              "    40% {\n",
              "      border-color: transparent;\n",
              "      border-right-color: var(--fill-color);\n",
              "      border-top-color: var(--fill-color);\n",
              "    }\n",
              "    60% {\n",
              "      border-color: transparent;\n",
              "      border-right-color: var(--fill-color);\n",
              "    }\n",
              "    80% {\n",
              "      border-color: transparent;\n",
              "      border-right-color: var(--fill-color);\n",
              "      border-bottom-color: var(--fill-color);\n",
              "    }\n",
              "    90% {\n",
              "      border-color: transparent;\n",
              "      border-bottom-color: var(--fill-color);\n",
              "    }\n",
              "  }\n",
              "</style>\n",
              "\n",
              "  <script>\n",
              "    async function quickchart(key) {\n",
              "      const quickchartButtonEl =\n",
              "        document.querySelector('#' + key + ' button');\n",
              "      quickchartButtonEl.disabled = true;  // To prevent multiple clicks.\n",
              "      quickchartButtonEl.classList.add('colab-df-spinner');\n",
              "      try {\n",
              "        const charts = await google.colab.kernel.invokeFunction(\n",
              "            'suggestCharts', [key], {});\n",
              "      } catch (error) {\n",
              "        console.error('Error during call to suggestCharts:', error);\n",
              "      }\n",
              "      quickchartButtonEl.classList.remove('colab-df-spinner');\n",
              "      quickchartButtonEl.classList.add('colab-df-quickchart-complete');\n",
              "    }\n",
              "    (() => {\n",
              "      let quickchartButtonEl =\n",
              "        document.querySelector('#df-812634a1-3dde-4fad-bf90-b657abada0e2 button');\n",
              "      quickchartButtonEl.style.display =\n",
              "        google.colab.kernel.accessAllowed ? 'block' : 'none';\n",
              "    })();\n",
              "  </script>\n",
              "</div>\n",
              "    </div>\n",
              "  </div>\n"
            ],
            "application/vnd.google.colaboratory.intrinsic+json": {
              "type": "dataframe",
              "variable_name": "csv",
              "summary": "{\n  \"name\": \"csv\",\n  \"rows\": 1750,\n  \"fields\": [\n    {\n      \"column\": \"Unnamed: 0\",\n      \"properties\": {\n        \"dtype\": \"number\",\n        \"std\": 505,\n        \"min\": 0,\n        \"max\": 1749,\n        \"num_unique_values\": 1750,\n        \"samples\": [\n          1246,\n          862,\n          298\n        ],\n        \"semantic_type\": \"\",\n        \"description\": \"\"\n      }\n    },\n    {\n      \"column\": \"filename\",\n      \"properties\": {\n        \"dtype\": \"string\",\n        \"num_unique_values\": 1750,\n        \"samples\": [\n          \"Cat-Train (827).jpeg\",\n          \"Cat-Train (548).jpeg\",\n          \"Cat-Train (444).jpeg\"\n        ],\n        \"semantic_type\": \"\",\n        \"description\": \"\"\n      }\n    },\n    {\n      \"column\": \"box1_row\",\n      \"properties\": {\n        \"dtype\": \"number\",\n        \"std\": 13,\n        \"min\": 0,\n        \"max\": 45,\n        \"num_unique_values\": 46,\n        \"samples\": [\n          45,\n          43,\n          4\n        ],\n        \"semantic_type\": \"\",\n        \"description\": \"\"\n      }\n    },\n    {\n      \"column\": \"box1_col\",\n      \"properties\": {\n        \"dtype\": \"number\",\n        \"std\": 13,\n        \"min\": 0,\n        \"max\": 45,\n        \"num_unique_values\": 46,\n        \"samples\": [\n          0,\n          22,\n          12\n        ],\n        \"semantic_type\": \"\",\n        \"description\": \"\"\n      }\n    },\n    {\n      \"column\": \"box2_row\",\n      \"properties\": {\n        \"dtype\": \"number\",\n        \"std\": 13,\n        \"min\": 0,\n        \"max\": 45,\n        \"num_unique_values\": 46,\n        \"samples\": [\n          33,\n          42,\n          17\n        ],\n        \"semantic_type\": \"\",\n        \"description\": \"\"\n      }\n    },\n    {\n      \"column\": \"box2_col\",\n      \"properties\": {\n        \"dtype\": \"number\",\n        \"std\": 12,\n        \"min\": 0,\n        \"max\": 45,\n        \"num_unique_values\": 46,\n        \"samples\": [\n          6,\n          2,\n          31\n        ],\n        \"semantic_type\": \"\",\n        \"description\": \"\"\n      }\n    }\n  ]\n}"
            }
          },
          "metadata": {},
          "execution_count": 8
        }
      ]
    },
    {
      "cell_type": "code",
      "source": [
        "box_size = [15, 15]\n",
        "\n",
        "def is_within_bounds(row, col):\n",
        "  return row + box_size[0] <= img_size[0] and col + box_size[1] <= img_size[1]"
      ],
      "metadata": {
        "id": "c8ubrfS47z8h"
      },
      "execution_count": 9,
      "outputs": []
    },
    {
      "cell_type": "code",
      "source": [
        "csv['box1_within_bounds'] = csv.apply(lambda row: is_within_bounds(row['box1_row'], row['box1_col']), axis=1)\n",
        "csv['box2_within_bounds'] = csv.apply(lambda row: is_within_bounds(row['box2_row'], row['box2_col']), axis=1)\n",
        "invalid_boxes = csv[(~csv['box1_within_bounds']) | (~csv['box2_within_bounds'])]"
      ],
      "metadata": {
        "id": "WiC8SmzD6XBW"
      },
      "execution_count": 10,
      "outputs": []
    },
    {
      "cell_type": "code",
      "source": [
        "csv.head()"
      ],
      "metadata": {
        "id": "hZ2KkbW_84_u",
        "outputId": "8de4c67c-ba61-46f6-9b7c-90db069ac677",
        "colab": {
          "base_uri": "https://localhost:8080/",
          "height": 330
        }
      },
      "execution_count": 11,
      "outputs": [
        {
          "output_type": "execute_result",
          "data": {
            "text/plain": [
              "   Unnamed: 0               filename  box1_row  box1_col  box2_row  box2_col  \\\n",
              "0           0  Cat-Train (1085).jpeg        16         1        10        38   \n",
              "1           1   Cat-Train (900).jpeg        21         5        26        41   \n",
              "2           2  Cat-Train (1759).jpeg        15        24         0        35   \n",
              "3           3   Cat-Train (969).jpeg         3        34        11        34   \n",
              "4           4  Cat-Train (1559).jpeg        26        23        10        39   \n",
              "\n",
              "   box1_within_bounds  box2_within_bounds  \n",
              "0                True                True  \n",
              "1                True                True  \n",
              "2                True                True  \n",
              "3                True                True  \n",
              "4                True                True  "
            ],
            "text/html": [
              "\n",
              "  <div id=\"df-f21f1129-12e9-4ffc-968c-9923cf2dae9f\" class=\"colab-df-container\">\n",
              "    <div>\n",
              "<style scoped>\n",
              "    .dataframe tbody tr th:only-of-type {\n",
              "        vertical-align: middle;\n",
              "    }\n",
              "\n",
              "    .dataframe tbody tr th {\n",
              "        vertical-align: top;\n",
              "    }\n",
              "\n",
              "    .dataframe thead th {\n",
              "        text-align: right;\n",
              "    }\n",
              "</style>\n",
              "<table border=\"1\" class=\"dataframe\">\n",
              "  <thead>\n",
              "    <tr style=\"text-align: right;\">\n",
              "      <th></th>\n",
              "      <th>Unnamed: 0</th>\n",
              "      <th>filename</th>\n",
              "      <th>box1_row</th>\n",
              "      <th>box1_col</th>\n",
              "      <th>box2_row</th>\n",
              "      <th>box2_col</th>\n",
              "      <th>box1_within_bounds</th>\n",
              "      <th>box2_within_bounds</th>\n",
              "    </tr>\n",
              "  </thead>\n",
              "  <tbody>\n",
              "    <tr>\n",
              "      <th>0</th>\n",
              "      <td>0</td>\n",
              "      <td>Cat-Train (1085).jpeg</td>\n",
              "      <td>16</td>\n",
              "      <td>1</td>\n",
              "      <td>10</td>\n",
              "      <td>38</td>\n",
              "      <td>True</td>\n",
              "      <td>True</td>\n",
              "    </tr>\n",
              "    <tr>\n",
              "      <th>1</th>\n",
              "      <td>1</td>\n",
              "      <td>Cat-Train (900).jpeg</td>\n",
              "      <td>21</td>\n",
              "      <td>5</td>\n",
              "      <td>26</td>\n",
              "      <td>41</td>\n",
              "      <td>True</td>\n",
              "      <td>True</td>\n",
              "    </tr>\n",
              "    <tr>\n",
              "      <th>2</th>\n",
              "      <td>2</td>\n",
              "      <td>Cat-Train (1759).jpeg</td>\n",
              "      <td>15</td>\n",
              "      <td>24</td>\n",
              "      <td>0</td>\n",
              "      <td>35</td>\n",
              "      <td>True</td>\n",
              "      <td>True</td>\n",
              "    </tr>\n",
              "    <tr>\n",
              "      <th>3</th>\n",
              "      <td>3</td>\n",
              "      <td>Cat-Train (969).jpeg</td>\n",
              "      <td>3</td>\n",
              "      <td>34</td>\n",
              "      <td>11</td>\n",
              "      <td>34</td>\n",
              "      <td>True</td>\n",
              "      <td>True</td>\n",
              "    </tr>\n",
              "    <tr>\n",
              "      <th>4</th>\n",
              "      <td>4</td>\n",
              "      <td>Cat-Train (1559).jpeg</td>\n",
              "      <td>26</td>\n",
              "      <td>23</td>\n",
              "      <td>10</td>\n",
              "      <td>39</td>\n",
              "      <td>True</td>\n",
              "      <td>True</td>\n",
              "    </tr>\n",
              "  </tbody>\n",
              "</table>\n",
              "</div>\n",
              "    <div class=\"colab-df-buttons\">\n",
              "\n",
              "  <div class=\"colab-df-container\">\n",
              "    <button class=\"colab-df-convert\" onclick=\"convertToInteractive('df-f21f1129-12e9-4ffc-968c-9923cf2dae9f')\"\n",
              "            title=\"Convert this dataframe to an interactive table.\"\n",
              "            style=\"display:none;\">\n",
              "\n",
              "  <svg xmlns=\"http://www.w3.org/2000/svg\" height=\"24px\" viewBox=\"0 -960 960 960\">\n",
              "    <path d=\"M120-120v-720h720v720H120Zm60-500h600v-160H180v160Zm220 220h160v-160H400v160Zm0 220h160v-160H400v160ZM180-400h160v-160H180v160Zm440 0h160v-160H620v160ZM180-180h160v-160H180v160Zm440 0h160v-160H620v160Z\"/>\n",
              "  </svg>\n",
              "    </button>\n",
              "\n",
              "  <style>\n",
              "    .colab-df-container {\n",
              "      display:flex;\n",
              "      gap: 12px;\n",
              "    }\n",
              "\n",
              "    .colab-df-convert {\n",
              "      background-color: #E8F0FE;\n",
              "      border: none;\n",
              "      border-radius: 50%;\n",
              "      cursor: pointer;\n",
              "      display: none;\n",
              "      fill: #1967D2;\n",
              "      height: 32px;\n",
              "      padding: 0 0 0 0;\n",
              "      width: 32px;\n",
              "    }\n",
              "\n",
              "    .colab-df-convert:hover {\n",
              "      background-color: #E2EBFA;\n",
              "      box-shadow: 0px 1px 2px rgba(60, 64, 67, 0.3), 0px 1px 3px 1px rgba(60, 64, 67, 0.15);\n",
              "      fill: #174EA6;\n",
              "    }\n",
              "\n",
              "    .colab-df-buttons div {\n",
              "      margin-bottom: 4px;\n",
              "    }\n",
              "\n",
              "    [theme=dark] .colab-df-convert {\n",
              "      background-color: #3B4455;\n",
              "      fill: #D2E3FC;\n",
              "    }\n",
              "\n",
              "    [theme=dark] .colab-df-convert:hover {\n",
              "      background-color: #434B5C;\n",
              "      box-shadow: 0px 1px 3px 1px rgba(0, 0, 0, 0.15);\n",
              "      filter: drop-shadow(0px 1px 2px rgba(0, 0, 0, 0.3));\n",
              "      fill: #FFFFFF;\n",
              "    }\n",
              "  </style>\n",
              "\n",
              "    <script>\n",
              "      const buttonEl =\n",
              "        document.querySelector('#df-f21f1129-12e9-4ffc-968c-9923cf2dae9f button.colab-df-convert');\n",
              "      buttonEl.style.display =\n",
              "        google.colab.kernel.accessAllowed ? 'block' : 'none';\n",
              "\n",
              "      async function convertToInteractive(key) {\n",
              "        const element = document.querySelector('#df-f21f1129-12e9-4ffc-968c-9923cf2dae9f');\n",
              "        const dataTable =\n",
              "          await google.colab.kernel.invokeFunction('convertToInteractive',\n",
              "                                                    [key], {});\n",
              "        if (!dataTable) return;\n",
              "\n",
              "        const docLinkHtml = 'Like what you see? Visit the ' +\n",
              "          '<a target=\"_blank\" href=https://colab.research.google.com/notebooks/data_table.ipynb>data table notebook</a>'\n",
              "          + ' to learn more about interactive tables.';\n",
              "        element.innerHTML = '';\n",
              "        dataTable['output_type'] = 'display_data';\n",
              "        await google.colab.output.renderOutput(dataTable, element);\n",
              "        const docLink = document.createElement('div');\n",
              "        docLink.innerHTML = docLinkHtml;\n",
              "        element.appendChild(docLink);\n",
              "      }\n",
              "    </script>\n",
              "  </div>\n",
              "\n",
              "\n",
              "<div id=\"df-aa7274b6-300b-4680-93b9-5a2ae3cb9a73\">\n",
              "  <button class=\"colab-df-quickchart\" onclick=\"quickchart('df-aa7274b6-300b-4680-93b9-5a2ae3cb9a73')\"\n",
              "            title=\"Suggest charts\"\n",
              "            style=\"display:none;\">\n",
              "\n",
              "<svg xmlns=\"http://www.w3.org/2000/svg\" height=\"24px\"viewBox=\"0 0 24 24\"\n",
              "     width=\"24px\">\n",
              "    <g>\n",
              "        <path d=\"M19 3H5c-1.1 0-2 .9-2 2v14c0 1.1.9 2 2 2h14c1.1 0 2-.9 2-2V5c0-1.1-.9-2-2-2zM9 17H7v-7h2v7zm4 0h-2V7h2v10zm4 0h-2v-4h2v4z\"/>\n",
              "    </g>\n",
              "</svg>\n",
              "  </button>\n",
              "\n",
              "<style>\n",
              "  .colab-df-quickchart {\n",
              "      --bg-color: #E8F0FE;\n",
              "      --fill-color: #1967D2;\n",
              "      --hover-bg-color: #E2EBFA;\n",
              "      --hover-fill-color: #174EA6;\n",
              "      --disabled-fill-color: #AAA;\n",
              "      --disabled-bg-color: #DDD;\n",
              "  }\n",
              "\n",
              "  [theme=dark] .colab-df-quickchart {\n",
              "      --bg-color: #3B4455;\n",
              "      --fill-color: #D2E3FC;\n",
              "      --hover-bg-color: #434B5C;\n",
              "      --hover-fill-color: #FFFFFF;\n",
              "      --disabled-bg-color: #3B4455;\n",
              "      --disabled-fill-color: #666;\n",
              "  }\n",
              "\n",
              "  .colab-df-quickchart {\n",
              "    background-color: var(--bg-color);\n",
              "    border: none;\n",
              "    border-radius: 50%;\n",
              "    cursor: pointer;\n",
              "    display: none;\n",
              "    fill: var(--fill-color);\n",
              "    height: 32px;\n",
              "    padding: 0;\n",
              "    width: 32px;\n",
              "  }\n",
              "\n",
              "  .colab-df-quickchart:hover {\n",
              "    background-color: var(--hover-bg-color);\n",
              "    box-shadow: 0 1px 2px rgba(60, 64, 67, 0.3), 0 1px 3px 1px rgba(60, 64, 67, 0.15);\n",
              "    fill: var(--button-hover-fill-color);\n",
              "  }\n",
              "\n",
              "  .colab-df-quickchart-complete:disabled,\n",
              "  .colab-df-quickchart-complete:disabled:hover {\n",
              "    background-color: var(--disabled-bg-color);\n",
              "    fill: var(--disabled-fill-color);\n",
              "    box-shadow: none;\n",
              "  }\n",
              "\n",
              "  .colab-df-spinner {\n",
              "    border: 2px solid var(--fill-color);\n",
              "    border-color: transparent;\n",
              "    border-bottom-color: var(--fill-color);\n",
              "    animation:\n",
              "      spin 1s steps(1) infinite;\n",
              "  }\n",
              "\n",
              "  @keyframes spin {\n",
              "    0% {\n",
              "      border-color: transparent;\n",
              "      border-bottom-color: var(--fill-color);\n",
              "      border-left-color: var(--fill-color);\n",
              "    }\n",
              "    20% {\n",
              "      border-color: transparent;\n",
              "      border-left-color: var(--fill-color);\n",
              "      border-top-color: var(--fill-color);\n",
              "    }\n",
              "    30% {\n",
              "      border-color: transparent;\n",
              "      border-left-color: var(--fill-color);\n",
              "      border-top-color: var(--fill-color);\n",
              "      border-right-color: var(--fill-color);\n",
              "    }\n",
              "    40% {\n",
              "      border-color: transparent;\n",
              "      border-right-color: var(--fill-color);\n",
              "      border-top-color: var(--fill-color);\n",
              "    }\n",
              "    60% {\n",
              "      border-color: transparent;\n",
              "      border-right-color: var(--fill-color);\n",
              "    }\n",
              "    80% {\n",
              "      border-color: transparent;\n",
              "      border-right-color: var(--fill-color);\n",
              "      border-bottom-color: var(--fill-color);\n",
              "    }\n",
              "    90% {\n",
              "      border-color: transparent;\n",
              "      border-bottom-color: var(--fill-color);\n",
              "    }\n",
              "  }\n",
              "</style>\n",
              "\n",
              "  <script>\n",
              "    async function quickchart(key) {\n",
              "      const quickchartButtonEl =\n",
              "        document.querySelector('#' + key + ' button');\n",
              "      quickchartButtonEl.disabled = true;  // To prevent multiple clicks.\n",
              "      quickchartButtonEl.classList.add('colab-df-spinner');\n",
              "      try {\n",
              "        const charts = await google.colab.kernel.invokeFunction(\n",
              "            'suggestCharts', [key], {});\n",
              "      } catch (error) {\n",
              "        console.error('Error during call to suggestCharts:', error);\n",
              "      }\n",
              "      quickchartButtonEl.classList.remove('colab-df-spinner');\n",
              "      quickchartButtonEl.classList.add('colab-df-quickchart-complete');\n",
              "    }\n",
              "    (() => {\n",
              "      let quickchartButtonEl =\n",
              "        document.querySelector('#df-aa7274b6-300b-4680-93b9-5a2ae3cb9a73 button');\n",
              "      quickchartButtonEl.style.display =\n",
              "        google.colab.kernel.accessAllowed ? 'block' : 'none';\n",
              "    })();\n",
              "  </script>\n",
              "</div>\n",
              "    </div>\n",
              "  </div>\n"
            ],
            "application/vnd.google.colaboratory.intrinsic+json": {
              "type": "dataframe",
              "variable_name": "csv",
              "summary": "{\n  \"name\": \"csv\",\n  \"rows\": 1750,\n  \"fields\": [\n    {\n      \"column\": \"Unnamed: 0\",\n      \"properties\": {\n        \"dtype\": \"number\",\n        \"std\": 505,\n        \"min\": 0,\n        \"max\": 1749,\n        \"num_unique_values\": 1750,\n        \"samples\": [\n          1246,\n          862,\n          298\n        ],\n        \"semantic_type\": \"\",\n        \"description\": \"\"\n      }\n    },\n    {\n      \"column\": \"filename\",\n      \"properties\": {\n        \"dtype\": \"string\",\n        \"num_unique_values\": 1750,\n        \"samples\": [\n          \"Cat-Train (827).jpeg\",\n          \"Cat-Train (548).jpeg\",\n          \"Cat-Train (444).jpeg\"\n        ],\n        \"semantic_type\": \"\",\n        \"description\": \"\"\n      }\n    },\n    {\n      \"column\": \"box1_row\",\n      \"properties\": {\n        \"dtype\": \"number\",\n        \"std\": 13,\n        \"min\": 0,\n        \"max\": 45,\n        \"num_unique_values\": 46,\n        \"samples\": [\n          45,\n          43,\n          4\n        ],\n        \"semantic_type\": \"\",\n        \"description\": \"\"\n      }\n    },\n    {\n      \"column\": \"box1_col\",\n      \"properties\": {\n        \"dtype\": \"number\",\n        \"std\": 13,\n        \"min\": 0,\n        \"max\": 45,\n        \"num_unique_values\": 46,\n        \"samples\": [\n          0,\n          22,\n          12\n        ],\n        \"semantic_type\": \"\",\n        \"description\": \"\"\n      }\n    },\n    {\n      \"column\": \"box2_row\",\n      \"properties\": {\n        \"dtype\": \"number\",\n        \"std\": 13,\n        \"min\": 0,\n        \"max\": 45,\n        \"num_unique_values\": 46,\n        \"samples\": [\n          33,\n          42,\n          17\n        ],\n        \"semantic_type\": \"\",\n        \"description\": \"\"\n      }\n    },\n    {\n      \"column\": \"box2_col\",\n      \"properties\": {\n        \"dtype\": \"number\",\n        \"std\": 12,\n        \"min\": 0,\n        \"max\": 45,\n        \"num_unique_values\": 46,\n        \"samples\": [\n          6,\n          2,\n          31\n        ],\n        \"semantic_type\": \"\",\n        \"description\": \"\"\n      }\n    },\n    {\n      \"column\": \"box1_within_bounds\",\n      \"properties\": {\n        \"dtype\": \"boolean\",\n        \"num_unique_values\": 1,\n        \"samples\": [\n          true\n        ],\n        \"semantic_type\": \"\",\n        \"description\": \"\"\n      }\n    },\n    {\n      \"column\": \"box2_within_bounds\",\n      \"properties\": {\n        \"dtype\": \"boolean\",\n        \"num_unique_values\": 1,\n        \"samples\": [\n          true\n        ],\n        \"semantic_type\": \"\",\n        \"description\": \"\"\n      }\n    }\n  ]\n}"
            }
          },
          "metadata": {},
          "execution_count": 11
        }
      ]
    },
    {
      "cell_type": "code",
      "source": [
        "print(f\"There is {invalid_boxes.shape[0]} images that have invalid boxes\")"
      ],
      "metadata": {
        "id": "MUFCVNm_80SP",
        "outputId": "2a9ef773-d66e-42bd-ecb7-67bed252d66c",
        "colab": {
          "base_uri": "https://localhost:8080/"
        }
      },
      "execution_count": 12,
      "outputs": [
        {
          "output_type": "stream",
          "name": "stdout",
          "text": [
            "There is 0 images that have invalid boxes\n"
          ]
        }
      ]
    },
    {
      "cell_type": "code",
      "source": [
        "x_cp = y.copy(deep=True)"
      ],
      "metadata": {
        "id": "6UNCAD7IBfS5"
      },
      "execution_count": 13,
      "outputs": []
    },
    {
      "cell_type": "code",
      "source": [
        "import numpy as np\n",
        "def draw_masks(image, csv_row , box_size):\n",
        "    col1, row1, col2, row2 = csv_row['box1_row'], csv_row['box1_col'], csv_row['box2_row'], csv_row['box2_col']\n",
        "    mask = np.zeros(img_size)\n",
        "    mask[row1:row1+box_size[0], col1:col1+box_size[1]] = 1\n",
        "    #mask[row2:row2+box_size[0], col2:col2+box_size[1]] = 1\n",
        "    img_cp = image.copy()\n",
        "    img_cp[mask==1] = 0\n",
        "    mask = mask[:, :, np.newaxis]\n",
        "    rgbm_image = np.concatenate((img_cp, mask), axis=2).astype(np.int32)\n",
        "    return rgbm_image"
      ],
      "metadata": {
        "id": "6RP8FJGSIBFa"
      },
      "execution_count": 14,
      "outputs": []
    },
    {
      "cell_type": "code",
      "source": [
        "x_cp['image'] = x_cp.apply(lambda row: draw_masks(row['image'], csv[csv['filename'] == row['filename']].iloc[0], box_size), axis = 1)"
      ],
      "metadata": {
        "id": "aIsiLW2P9gBN"
      },
      "execution_count": 15,
      "outputs": []
    },
    {
      "cell_type": "code",
      "source": [
        "type(x_cp.iloc[0]['image'])"
      ],
      "metadata": {
        "colab": {
          "base_uri": "https://localhost:8080/"
        },
        "id": "5nZ17smRc6hr",
        "outputId": "0ac0049b-e826-413d-fda2-5833d2b435c9"
      },
      "execution_count": 16,
      "outputs": [
        {
          "output_type": "execute_result",
          "data": {
            "text/plain": [
              "numpy.ndarray"
            ]
          },
          "metadata": {},
          "execution_count": 16
        }
      ]
    },
    {
      "cell_type": "code",
      "source": [
        "merged_data = pd.merge(x_cp, csv, on='filename')\n",
        "merged_data = pd.merge(merged_data, y, on = 'filename')"
      ],
      "metadata": {
        "id": "E5O7eZci99vS"
      },
      "execution_count": 17,
      "outputs": []
    },
    {
      "cell_type": "code",
      "source": [
        "final_table_columns = ['filename', 'image_x', 'image_y', 'box2_row', 'box2_col']\n",
        "train_df = merged_data.drop(columns=[col for col in merged_data if col not in final_table_columns])"
      ],
      "metadata": {
        "id": "RqHW5P1C-B5o"
      },
      "execution_count": 18,
      "outputs": []
    },
    {
      "cell_type": "code",
      "source": [
        "#train_df.head()"
      ],
      "metadata": {
        "id": "0-xMTanA-DrX"
      },
      "execution_count": 19,
      "outputs": []
    },
    {
      "cell_type": "code",
      "source": [
        "test_row = train_df.iloc[3]\n",
        "x_coord, y_coord = test_row['box2_row'], test_row['box2_col']\n",
        "print(x_coord, y_coord)"
      ],
      "metadata": {
        "colab": {
          "base_uri": "https://localhost:8080/"
        },
        "id": "fiMY8T_A-keM",
        "outputId": "43fe96c6-58eb-465d-b01e-d3ee544608e2"
      },
      "execution_count": 20,
      "outputs": [
        {
          "output_type": "stream",
          "name": "stdout",
          "text": [
            "17 26\n"
          ]
        }
      ]
    },
    {
      "cell_type": "code",
      "source": [
        "plt.imshow(test_row['image_x'][:,:,3], cmap='gray')\n",
        "plt.show()"
      ],
      "metadata": {
        "colab": {
          "base_uri": "https://localhost:8080/",
          "height": 432
        },
        "id": "yV5MUC6O_P_i",
        "outputId": "10dfc5c8-2634-4015-edf6-7965569e04f3"
      },
      "execution_count": 21,
      "outputs": [
        {
          "output_type": "display_data",
          "data": {
            "text/plain": [
              "<Figure size 640x480 with 1 Axes>"
            ],
            "image/png": "[encoded data removed]"
          },
          "metadata": {}
        }
      ]
    },
    {
      "cell_type": "code",
      "source": [
        "def crop_box(rgbm, y_img):\n",
        "  mask = rgbm[:,:,3]\n",
        "  rows, cols = np.where(mask == 1)\n",
        "\n",
        "  min_row, max_row = np.min(rows), np.max(rows)\n",
        "  min_col, max_col = np.min(cols), np.max(cols)\n",
        "\n",
        "  return y_img[min_row:max_row + 1, min_col:max_col + 1, :]\n"
      ],
      "metadata": {
        "id": "nC-hY7a4lUQ9"
      },
      "execution_count": 22,
      "outputs": []
    },
    {
      "cell_type": "code",
      "source": [
        "train_df['image_y'] = train_df.apply(lambda row: crop_box(row['image_x'], row['image_y']), axis = 1)"
      ],
      "metadata": {
        "id": "hbgjmMwPlDH8"
      },
      "execution_count": 23,
      "outputs": []
    },
    {
      "cell_type": "code",
      "source": [
        "train_df.iloc[1]['image_y']"
      ],
      "metadata": {
        "colab": {
          "base_uri": "https://localhost:8080/",
          "height": 55
        },
        "id": "PuOJ0zS2nAqT",
        "outputId": "4b9f4b48-fec3-47d1-89c2-fd85d368f7fd"
      },
      "execution_count": 24,
      "outputs": [
        {
          "output_type": "execute_result",
          "data": {
            "text/plain": [
              "array([[[159, 165, 190],\n",
              "        [157, 163, 188],\n",
              "        [153, 159, 185],\n",
              "        [161, 166, 194],\n",
              "        [185, 191, 205],\n",
              "        [200, 203, 214],\n",
              "        [  5,   5,  20],\n",
              "        [ 13,   9,  33],\n",
              "        [ 17,  14,  36],\n",
              "        [  7,   5,  27],\n",
              "        [  4,   2,  24],\n",
              "        [  3,   0,  22],\n",
              "        [  1,   1,  21],\n",
              "        [  4,   3,  23],\n",
              "        [  5,   2,  22]],\n",
              "\n",
              "       [[158, 162, 187],\n",
              "        [155, 159, 185],\n",
              "        [149, 153, 180],\n",
              "        [159, 163, 191],\n",
              "        [178, 183, 199],\n",
              "        [192, 195, 205],\n",
              "        [118, 120, 131],\n",
              "        [ 21,  19,  38],\n",
              "        [ 17,  18,  39],\n",
              "        [  6,   7,  28],\n",
              "        [  3,   4,  25],\n",
              "        [  2,   3,  24],\n",
              "        [  4,   4,  24],\n",
              "        [  4,   3,  23],\n",
              "        [  5,   1,  22]],\n",
              "\n",
              "       [[161, 156, 185],\n",
              "        [163, 160, 185],\n",
              "        [178, 176, 196],\n",
              "        [171, 171, 186],\n",
              "        [181, 185, 202],\n",
              "        [178, 181, 191],\n",
              "        [221, 223, 232],\n",
              "        [ 62,  61,  75],\n",
              "        [ 67,  69,  89],\n",
              "        [ 19,  22,  41],\n",
              "        [  1,   2,  21],\n",
              "        [ 11,  14,  33],\n",
              "        [ 13,  13,  33],\n",
              "        [ 10,   9,  29],\n",
              "        [  5,   1,  22]],\n",
              "\n",
              "       [[158, 158, 181],\n",
              "        [179, 178, 198],\n",
              "        [192, 190, 205],\n",
              "        [174, 173, 184],\n",
              "        [160, 167, 185],\n",
              "        [167, 172, 185],\n",
              "        [188, 190, 199],\n",
              "        [208, 208, 214],\n",
              "        [166, 168, 180],\n",
              "        [ 93,  94, 104],\n",
              "        [ 78,  77,  87],\n",
              "        [117, 116, 123],\n",
              "        [ 89,  80,  94],\n",
              "        [ 39,  33,  46],\n",
              "        [ 73,  70,  83]],\n",
              "\n",
              "       [[145, 143, 173],\n",
              "        [142, 138, 166],\n",
              "        [176, 172, 194],\n",
              "        [183, 179, 199],\n",
              "        [163, 167, 182],\n",
              "        [174, 178, 190],\n",
              "        [182, 184, 194],\n",
              "        [201, 204, 211],\n",
              "        [197, 199, 207],\n",
              "        [204, 204, 211],\n",
              "        [202, 201, 205],\n",
              "        [219, 215, 219],\n",
              "        [209, 207, 212],\n",
              "        [216, 216, 221],\n",
              "        [173, 173, 178]],\n",
              "\n",
              "       [[142, 139, 171],\n",
              "        [142, 138, 168],\n",
              "        [166, 161, 186],\n",
              "        [139, 134, 155],\n",
              "        [185, 185, 198],\n",
              "        [172, 174, 185],\n",
              "        [178, 183, 193],\n",
              "        [177, 183, 193],\n",
              "        [186, 193, 201],\n",
              "        [201, 205, 213],\n",
              "        [193, 196, 201],\n",
              "        [202, 205, 210],\n",
              "        [219, 224, 226],\n",
              "        [202, 206, 208],\n",
              "        [212, 214, 217]],\n",
              "\n",
              "       [[143, 141, 170],\n",
              "        [138, 135, 160],\n",
              "        [157, 154, 174],\n",
              "        [157, 153, 171],\n",
              "        [160, 159, 169],\n",
              "        [158, 159, 169],\n",
              "        [162, 167, 178],\n",
              "        [163, 171, 184],\n",
              "        [153, 166, 181],\n",
              "        [170, 182, 195],\n",
              "        [169, 179, 190],\n",
              "        [196, 205, 215],\n",
              "        [206, 213, 219],\n",
              "        [210, 215, 221],\n",
              "        [210, 211, 218]],\n",
              "\n",
              "       [[139, 135, 163],\n",
              "        [133, 130, 154],\n",
              "        [135, 134, 153],\n",
              "        [161, 160, 176],\n",
              "        [151, 152, 166],\n",
              "        [164, 167, 178],\n",
              "        [167, 174, 183],\n",
              "        [153, 164, 171],\n",
              "        [165, 179, 189],\n",
              "        [156, 168, 177],\n",
              "        [145, 156, 163],\n",
              "        [194, 204, 211],\n",
              "        [195, 203, 212],\n",
              "        [213, 211, 222],\n",
              "        [204, 199, 210]],\n",
              "\n",
              "       [[129, 129, 154],\n",
              "        [146, 148, 169],\n",
              "        [137, 140, 157],\n",
              "        [137, 141, 154],\n",
              "        [141, 149, 162],\n",
              "        [138, 148, 158],\n",
              "        [154, 166, 174],\n",
              "        [145, 159, 165],\n",
              "        [150, 161, 170],\n",
              "        [200, 210, 218],\n",
              "        [143, 151, 157],\n",
              "        [193, 201, 205],\n",
              "        [210, 216, 223],\n",
              "        [219, 221, 229],\n",
              "        [199, 200, 208]],\n",
              "\n",
              "       [[131, 137, 158],\n",
              "        [134, 141, 159],\n",
              "        [132, 140, 153],\n",
              "        [139, 149, 158],\n",
              "        [142, 154, 166],\n",
              "        [140, 151, 161],\n",
              "        [132, 142, 151],\n",
              "        [168, 178, 185],\n",
              "        [184, 191, 199],\n",
              "        [201, 207, 213],\n",
              "        [183, 186, 190],\n",
              "        [195, 199, 201],\n",
              "        [204, 208, 213],\n",
              "        [215, 221, 226],\n",
              "        [207, 214, 219]],\n",
              "\n",
              "       [[130, 141, 160],\n",
              "        [130, 142, 157],\n",
              "        [136, 149, 160],\n",
              "        [137, 152, 158],\n",
              "        [141, 149, 162],\n",
              "        [142, 148, 159],\n",
              "        [164, 167, 177],\n",
              "        [180, 182, 190],\n",
              "        [138, 142, 147],\n",
              "        [124, 127, 131],\n",
              "        [201, 203, 206],\n",
              "        [225, 225, 226],\n",
              "        [194, 194, 198],\n",
              "        [197, 207, 210],\n",
              "        [204, 217, 219]],\n",
              "\n",
              "       [[133, 145, 151],\n",
              "        [128, 139, 147],\n",
              "        [144, 153, 164],\n",
              "        [157, 166, 179],\n",
              "        [156, 167, 176],\n",
              "        [164, 168, 179],\n",
              "        [168, 167, 171],\n",
              "        [135, 132, 126],\n",
              "        [ 39,  30,  26],\n",
              "        [ 81,  75,  74],\n",
              "        [ 88,  84,  85],\n",
              "        [198, 197, 201],\n",
              "        [194, 200, 199],\n",
              "        [177, 189, 192],\n",
              "        [205, 214, 217]],\n",
              "\n",
              "       [[131, 144, 146],\n",
              "        [136, 148, 154],\n",
              "        [132, 142, 154],\n",
              "        [128, 135, 153],\n",
              "        [133, 144, 155],\n",
              "        [181, 185, 194],\n",
              "        [231, 226, 226],\n",
              "        [142, 133, 120],\n",
              "        [ 62,  54,  40],\n",
              "        [156, 149, 141],\n",
              "        [ 55,  49,  51],\n",
              "        [114, 109, 118],\n",
              "        [200, 201, 205],\n",
              "        [170, 172, 177],\n",
              "        [192, 194, 197]],\n",
              "\n",
              "       [[131, 143, 148],\n",
              "        [124, 135, 143],\n",
              "        [127, 137, 147],\n",
              "        [139, 148, 162],\n",
              "        [137, 147, 159],\n",
              "        [154, 156, 169],\n",
              "        [191, 188, 193],\n",
              "        [229, 224, 218],\n",
              "        [142, 139, 126],\n",
              "        [102,  99,  93],\n",
              "        [ 93,  92,  95],\n",
              "        [115, 115, 126],\n",
              "        [139, 141, 152],\n",
              "        [183, 182, 189],\n",
              "        [190, 188, 191]],\n",
              "\n",
              "       [[125, 134, 149],\n",
              "        [124, 133, 145],\n",
              "        [141, 152, 159],\n",
              "        [146, 158, 162],\n",
              "        [153, 160, 172],\n",
              "        [156, 160, 177],\n",
              "        [165, 169, 185],\n",
              "        [186, 191, 201],\n",
              "        [205, 206, 207],\n",
              "        [189, 193, 196],\n",
              "        [138, 145, 152],\n",
              "        [109, 116, 126],\n",
              "        [116, 125, 140],\n",
              "        [169, 171, 180],\n",
              "        [180, 181, 184]]], dtype=uint8)"
            ],
            "text/html": [
              "<style>\n",
              "      .ndarray_repr .ndarray_raw_data {\n",
              "        display: none;\n",
              "      }\n",
              "      .ndarray_repr.show_array .ndarray_raw_data {\n",
              "        display: block;\n",
              "      }\n",
              "      .ndarray_repr.show_array .ndarray_image_preview {\n",
              "        display: none;\n",
              "      }\n",
              "      </style>\n",
              "      <div id=\"id-144f8fe5-fc8f-4b5b-8fcb-9cef644c4d9e\" class=\"ndarray_repr\"><pre>ndarray (15, 15, 3) <button style=\"padding: 0 2px;\">show data</button></pre><img src=\"data:image/png;base64,iVBORw0KGgoAAAANSUhEUgAAAA8AAAAPCAIAAAC0tAIdAAACbElEQVR4nAXBu08TYQAA8O91d9+1vV6vFKEIRKu1FjEaTDTRKAObTk4ObiaGTUP0/zCuxqCLiYMYE1+bMdHJByJQ44AYUyktfcm19/qe/n7w0ZN3SikhJLXs8WLazdgXz1+ixCEGDqNISqmVUlBjhKDWSEuphBSMKymTmMVxtHTnNk0ZgGCNoEZQY4QxBgAADRBmikIwNZbLUI4R9n1/cfFmdaY8d2bOcR2lhJ22bds2TRMAAJeXX48WPCdj9fptn0HLAKP5bCHv/vi5/fbNq/1+v1I5+nervvp9rVQuw/v3ViRPSqVJyzI6w346TalJRgqe4MIyiJLMy2bDOLFsu1arISkUACgM4s2NzQP5nBJcaN1s9wLGJEQRF/0wSnlZPxxUqhUCkeYsjpJhfiS326grAEhiQ2I2+0Mvx7TkB+3sIEio7SghkWAJ52yv0yaWESXSpLZhGWEyyDjU93vN1o7SIggTLCAbxihkkZN3kUma3b1Qika3M4ijmLP9Xnd2pqo405K5TtpMWRwqhCgZJiEHAlECDYIw3mu2xkYKpekpKPnxI4eREiwOBZA0m0aaIAEVsS2FgeYCSXWoOJEhxvq3Ly9fPM97uemJYujv9/x/EgOCScSZoMRzHFdDSSEmOt5Yff/4wcOZk6e3auu3lu4CE3Z6vUmriJTm1LaGQVj/02i12p7nzl84Z0E2Np69cnnh96/tZ09XTGgm/f1Bp0OARsNBgBHJOK7Scqe+m8L62vUbwDQ/ra4dOzELTfrh4+fZalkxRlgEgUZZL2OYwEIOAkajG3Pcn1+4eups8HVts15vtP4Np4Morcl/jblRcu36uYAAAAAASUVORK5CYII=\" class=\"ndarray_image_preview\" /><pre class=\"ndarray_raw_data\">array([[[159, 165, 190],\n",
              "        [157, 163, 188],\n",
              "        [153, 159, 185],\n",
              "        [161, 166, 194],\n",
              "        [185, 191, 205],\n",
              "        [200, 203, 214],\n",
              "        [  5,   5,  20],\n",
              "        [ 13,   9,  33],\n",
              "        [ 17,  14,  36],\n",
              "        [  7,   5,  27],\n",
              "        [  4,   2,  24],\n",
              "        [  3,   0,  22],\n",
              "        [  1,   1,  21],\n",
              "        [  4,   3,  23],\n",
              "        [  5,   2,  22]],\n",
              "\n",
              "       [[158, 162, 187],\n",
              "        [155, 159, 185],\n",
              "        [149, 153, 180],\n",
              "        [159, 163, 191],\n",
              "        [178, 183, 199],\n",
              "        [192, 195, 205],\n",
              "        [118, 120, 131],\n",
              "        [ 21,  19,  38],\n",
              "        [ 17,  18,  39],\n",
              "        [  6,   7,  28],\n",
              "        [  3,   4,  25],\n",
              "        [  2,   3,  24],\n",
              "        [  4,   4,  24],\n",
              "        [  4,   3,  23],\n",
              "        [  5,   1,  22]],\n",
              "\n",
              "       [[161, 156, 185],\n",
              "        [163, 160, 185],\n",
              "        [178, 176, 196],\n",
              "        [171, 171, 186],\n",
              "        [181, 185, 202],\n",
              "        [178, 181, 191],\n",
              "        [221, 223, 232],\n",
              "        [ 62,  61,  75],\n",
              "        [ 67,  69,  89],\n",
              "        [ 19,  22,  41],\n",
              "        [  1,   2,  21],\n",
              "        [ 11,  14,  33],\n",
              "        [ 13,  13,  33],\n",
              "        [ 10,   9,  29],\n",
              "        [  5,   1,  22]],\n",
              "\n",
              "       [[158, 158, 181],\n",
              "        [179, 178, 198],\n",
              "        [192, 190, 205],\n",
              "        [174, 173, 184],\n",
              "        [160, 167, 185],\n",
              "        [167, 172, 185],\n",
              "        [188, 190, 199],\n",
              "        [208, 208, 214],\n",
              "        [166, 168, 180],\n",
              "        [ 93,  94, 104],\n",
              "        [ 78,  77,  87],\n",
              "        [117, 116, 123],\n",
              "        [ 89,  80,  94],\n",
              "        [ 39,  33,  46],\n",
              "        [ 73,  70,  83]],\n",
              "\n",
              "       [[145, 143, 173],\n",
              "        [142, 138, 166],\n",
              "        [176, 172, 194],\n",
              "        [183, 179, 199],\n",
              "        [163, 167, 182],\n",
              "        [174, 178, 190],\n",
              "        [182, 184, 194],\n",
              "        [201, 204, 211],\n",
              "        [197, 199, 207],\n",
              "        [204, 204, 211],\n",
              "        [202, 201, 205],\n",
              "        [219, 215, 219],\n",
              "        [209, 207, 212],\n",
              "        [216, 216, 221],\n",
              "        [173, 173, 178]],\n",
              "\n",
              "       [[142, 139, 171],\n",
              "        [142, 138, 168],\n",
              "        [166, 161, 186],\n",
              "        [139, 134, 155],\n",
              "        [185, 185, 198],\n",
              "        [172, 174, 185],\n",
              "        [178, 183, 193],\n",
              "        [177, 183, 193],\n",
              "        [186, 193, 201],\n",
              "        [201, 205, 213],\n",
              "        [193, 196, 201],\n",
              "        [202, 205, 210],\n",
              "        [219, 224, 226],\n",
              "        [202, 206, 208],\n",
              "        [212, 214, 217]],\n",
              "\n",
              "       [[143, 141, 170],\n",
              "        [138, 135, 160],\n",
              "        [157, 154, 174],\n",
              "        [157, 153, 171],\n",
              "        [160, 159, 169],\n",
              "        [158, 159, 169],\n",
              "        [162, 167, 178],\n",
              "        [163, 171, 184],\n",
              "        [153, 166, 181],\n",
              "        [170, 182, 195],\n",
              "        [169, 179, 190],\n",
              "        [196, 205, 215],\n",
              "        [206, 213, 219],\n",
              "        [210, 215, 221],\n",
              "        [210, 211, 218]],\n",
              "\n",
              "       [[139, 135, 163],\n",
              "        [133, 130, 154],\n",
              "        [135, 134, 153],\n",
              "        [161, 160, 176],\n",
              "        [151, 152, 166],\n",
              "        [164, 167, 178],\n",
              "        [167, 174, 183],\n",
              "        [153, 164, 171],\n",
              "        [165, 179, 189],\n",
              "        [156, 168, 177],\n",
              "        [145, 156, 163],\n",
              "        [194, 204, 211],\n",
              "        [195, 203, 212],\n",
              "        [213, 211, 222],\n",
              "        [204, 199, 210]],\n",
              "\n",
              "       [[129, 129, 154],\n",
              "        [146, 148, 169],\n",
              "        [137, 140, 157],\n",
              "        [137, 141, 154],\n",
              "        [141, 149, 162],\n",
              "        [138, 148, 158],\n",
              "        [154, 166, 174],\n",
              "        [145, 159, 165],\n",
              "        [150, 161, 170],\n",
              "        [200, 210, 218],\n",
              "        [143, 151, 157],\n",
              "        [193, 201, 205],\n",
              "        [210, 216, 223],\n",
              "        [219, 221, 229],\n",
              "        [199, 200, 208]],\n",
              "\n",
              "       [[131, 137, 158],\n",
              "        [134, 141, 159],\n",
              "        [132, 140, 153],\n",
              "        [139, 149, 158],\n",
              "        [142, 154, 166],\n",
              "        [140, 151, 161],\n",
              "        [132, 142, 151],\n",
              "        [168, 178, 185],\n",
              "        [184, 191, 199],\n",
              "        [201, 207, 213],\n",
              "        [183, 186, 190],\n",
              "        [195, 199, 201],\n",
              "        [204, 208, 213],\n",
              "        [215, 221, 226],\n",
              "        [207, 214, 219]],\n",
              "\n",
              "       [[130, 141, 160],\n",
              "        [130, 142, 157],\n",
              "        [136, 149, 160],\n",
              "        [137, 152, 158],\n",
              "        [141, 149, 162],\n",
              "        [142, 148, 159],\n",
              "        [164, 167, 177],\n",
              "        [180, 182, 190],\n",
              "        [138, 142, 147],\n",
              "        [124, 127, 131],\n",
              "        [201, 203, 206],\n",
              "        [225, 225, 226],\n",
              "        [194, 194, 198],\n",
              "        [197, 207, 210],\n",
              "        [204, 217, 219]],\n",
              "\n",
              "       [[133, 145, 151],\n",
              "        [128, 139, 147],\n",
              "        [144, 153, 164],\n",
              "        [157, 166, 179],\n",
              "        [156, 167, 176],\n",
              "        [164, 168, 179],\n",
              "        [168, 167, 171],\n",
              "        [135, 132, 126],\n",
              "        [ 39,  30,  26],\n",
              "        [ 81,  75,  74],\n",
              "        [ 88,  84,  85],\n",
              "        [198, 197, 201],\n",
              "        [194, 200, 199],\n",
              "        [177, 189, 192],\n",
              "        [205, 214, 217]],\n",
              "\n",
              "       [[131, 144, 146],\n",
              "        [136, 148, 154],\n",
              "        [132, 142, 154],\n",
              "        [128, 135, 153],\n",
              "        [133, 144, 155],\n",
              "        [181, 185, 194],\n",
              "        [231, 226, 226],\n",
              "        [142, 133, 120],\n",
              "        [ 62,  54,  40],\n",
              "        [156, 149, 141],\n",
              "        [ 55,  49,  51],\n",
              "        [114, 109, 118],\n",
              "        [200, 201, 205],\n",
              "        [170, 172, 177],\n",
              "        [192, 194, 197]],\n",
              "\n",
              "       [[131, 143, 148],\n",
              "        [124, 135, 143],\n",
              "        [127, 137, 147],\n",
              "        [139, 148, 162],\n",
              "        [137, 147, 159],\n",
              "        [154, 156, 169],\n",
              "        [191, 188, 193],\n",
              "        [229, 224, 218],\n",
              "        [142, 139, 126],\n",
              "        [102,  99,  93],\n",
              "        [ 93,  92,  95],\n",
              "        [115, 115, 126],\n",
              "        [139, 141, 152],\n",
              "        [183, 182, 189],\n",
              "        [190, 188, 191]],\n",
              "\n",
              "       [[125, 134, 149],\n",
              "        [124, 133, 145],\n",
              "        [141, 152, 159],\n",
              "        [146, 158, 162],\n",
              "        [153, 160, 172],\n",
              "        [156, 160, 177],\n",
              "        [165, 169, 185],\n",
              "        [186, 191, 201],\n",
              "        [205, 206, 207],\n",
              "        [189, 193, 196],\n",
              "        [138, 145, 152],\n",
              "        [109, 116, 126],\n",
              "        [116, 125, 140],\n",
              "        [169, 171, 180],\n",
              "        [180, 181, 184]]], dtype=uint8)</pre></div><script>\n",
              "      (() => {\n",
              "      const titles = ['show data', 'hide data'];\n",
              "      let index = 0\n",
              "      document.querySelector('#id-144f8fe5-fc8f-4b5b-8fcb-9cef644c4d9e button').onclick = (e) => {\n",
              "        document.querySelector('#id-144f8fe5-fc8f-4b5b-8fcb-9cef644c4d9e').classList.toggle('show_array');\n",
              "        index = (++index) % 2;\n",
              "        document.querySelector('#id-144f8fe5-fc8f-4b5b-8fcb-9cef644c4d9e button').textContent = titles[index];\n",
              "        e.preventDefault();\n",
              "        e.stopPropagation();\n",
              "      }\n",
              "      })();\n",
              "    </script>"
            ]
          },
          "metadata": {},
          "execution_count": 24
        }
      ]
    },
    {
      "cell_type": "markdown",
      "source": [
        "# Networks"
      ],
      "metadata": {
        "id": "bsRp00jRr1pq"
      }
    },
    {
      "cell_type": "code",
      "source": [
        "from tensorflow.keras.layers import Conv2D, Dense, Flatten, Activation, Reshape\n",
        "from tensorflow.keras.models import Sequential"
      ],
      "metadata": {
        "id": "cTKCuFCWr04h"
      },
      "execution_count": 25,
      "outputs": []
    },
    {
      "cell_type": "markdown",
      "source": [
        "## CNN"
      ],
      "metadata": {
        "id": "o6zbw19Qrtur"
      }
    },
    {
      "cell_type": "code",
      "source": [
        "euclidean_model_1 = Sequential()\n",
        "\n",
        "euclidean_model_1.add(Conv2D(64, kernel_size=3, activation='relu', padding='same', input_shape=(img_size[0], img_size[1], 4)))\n",
        "for i in range(9):\n",
        "  if (i + 1) % 3 == 0:\n",
        "     euclidean_model_1.add(Conv2D(64, kernel_size=3, padding='same', strides=2, activation='relu'))\n",
        "  else:\n",
        "    euclidean_model_1.add(Conv2D(64, kernel_size=3, padding='same', activation='relu'))\n",
        "\n",
        "euclidean_model_1.add(Flatten())\n",
        "euclidean_model_1.add(Dense(box_size[0]*box_size[1]*3, activation='relu'))\n",
        "euclidean_model_1.add(Activation('sigmoid'))\n",
        "euclidean_model_1.compile(loss='mse', optimizer='adam', metrics=['mae'])"
      ],
      "metadata": {
        "id": "qJi5Jtxqrwt2"
      },
      "execution_count": 26,
      "outputs": []
    },
    {
      "cell_type": "code",
      "source": [
        "from keras.optimizers import Adam\n",
        "from keras.callbacks import LearningRateScheduler\n",
        "from keras import backend as K\n",
        "\n",
        "def lr_schedule(epoch):\n",
        "  model = euclidean_model_1 #change before model fit\n",
        "  lr = K.get_value(model.optimizer.lr)\n",
        "  if epoch % 5 == 0 and epoch > 0:\n",
        "      K.set_value(model.optimizer.lr, lr * 0.8)\n",
        "      print(f\"Learning rate reduced to: {lr * 0.8}\")\n",
        "  return K.get_value(model.optimizer.lr)\n",
        "\n",
        "batch_size = 64\n",
        "weight_decay = 0.005\n",
        "lr_scheduler = LearningRateScheduler(lr_schedule)"
      ],
      "metadata": {
        "id": "usbIrGMiv6b_"
      },
      "execution_count": 27,
      "outputs": []
    },
    {
      "cell_type": "code",
      "source": [
        "#train_df.iloc[0]['image_x']"
      ],
      "metadata": {
        "id": "0UluaOX_unKm"
      },
      "execution_count": 28,
      "outputs": []
    },
    {
      "cell_type": "code",
      "source": [
        "print(type(train_df.iloc[0]['image_y']))\n",
        "print(train_df.iloc[0]['image_y'].shape)"
      ],
      "metadata": {
        "colab": {
          "base_uri": "https://localhost:8080/"
        },
        "id": "BZAlSKejv37p",
        "outputId": "1bf7ddeb-6fe4-405e-83bb-ea504dbdb011"
      },
      "execution_count": 29,
      "outputs": [
        {
          "output_type": "stream",
          "name": "stdout",
          "text": [
            "<class 'numpy.ndarray'>\n",
            "(15, 15, 3)\n"
          ]
        }
      ]
    },
    {
      "cell_type": "code",
      "source": [
        "lr_scheduler = LearningRateScheduler(lr_schedule)\n",
        "batch_size = 16\n",
        "epochs = 5"
      ],
      "metadata": {
        "id": "KWEp-sM8Cm1Z"
      },
      "execution_count": 30,
      "outputs": []
    },
    {
      "cell_type": "code",
      "source": [
        "X_train = np.stack(train_df['image_x'].values)\n",
        "y_train = np.stack(train_df['image_y'].values)\n",
        "y_train = y_train.reshape(y_train.shape[0],box_size[0]*box_size[1]*3)"
      ],
      "metadata": {
        "id": "kH_rGc0sCyy8"
      },
      "execution_count": 31,
      "outputs": []
    },
    {
      "cell_type": "code",
      "source": [
        "history = euclidean_model_1.fit(\n",
        "    X_train, y_train,\n",
        "    batch_size=batch_size,\n",
        "    epochs=epochs,\n",
        "    callbacks=[lr_scheduler],\n",
        "    validation_split=0.2\n",
        ")\n",
        "\n"
      ],
      "metadata": {
        "id": "UwcOvkFZwN8K",
        "colab": {
          "base_uri": "https://localhost:8080/"
        },
        "outputId": "8cb2fe00-e185-4230-e146-ce167fab9888"
      },
      "execution_count": 32,
      "outputs": [
        {
          "output_type": "stream",
          "name": "stdout",
          "text": [
            "Epoch 1/5\n",
            "88/88 [==============================] - 122s 1s/step - loss: 23776.5801 - mae: 136.9262 - val_loss: 22644.8867 - val_mae: 133.4474 - lr: 0.0010\n",
            "Epoch 2/5\n",
            "88/88 [==============================] - 121s 1s/step - loss: 23771.9141 - mae: 136.9090 - val_loss: 22644.5547 - val_mae: 133.4462 - lr: 0.0010\n",
            "Epoch 3/5\n",
            "88/88 [==============================] - 120s 1s/step - loss: 23771.8438 - mae: 136.9089 - val_loss: 22644.5547 - val_mae: 133.4462 - lr: 0.0010\n",
            "Epoch 4/5\n",
            "88/88 [==============================] - 117s 1s/step - loss: 23771.8477 - mae: 136.9089 - val_loss: 22644.5547 - val_mae: 133.4462 - lr: 0.0010\n",
            "Epoch 5/5\n",
            "88/88 [==============================] - 125s 1s/step - loss: 23771.8438 - mae: 136.9088 - val_loss: 22644.5547 - val_mae: 133.4462 - lr: 0.0010\n"
          ]
        }
      ]
    },
    {
      "cell_type": "code",
      "source": [
        "import pickle\n",
        "\n",
        "def save_history(history, path):\n",
        "  with open(path, 'wb') as f:\n",
        "    pickle.dump(history, f)"
      ],
      "metadata": {
        "id": "K4hjCa1XDrrE"
      },
      "execution_count": 33,
      "outputs": []
    },
    {
      "cell_type": "code",
      "source": [
        "MODEL_PATH = \"/content/drive/MyDrive/Colab Notebooks/ImageInpainting/CNN/trained-models\"\n",
        "HISTORY_PATH = \"/content/drive/MyDrive/Colab Notebooks/ImageInpainting/CNN/history\""
      ],
      "metadata": {
        "id": "nE7bj6HUD3s9"
      },
      "execution_count": 34,
      "outputs": []
    },
    {
      "cell_type": "code",
      "source": [
        "euclidean_model_1.save(MODEL_PATH + \"/euclidean_model_1.keras\")\n",
        "save_history(history.history, HISTORY_PATH + \"/euclidean_model_64_history.pkl\")"
      ],
      "metadata": {
        "id": "9X1fbKuVDsqH"
      },
      "execution_count": 35,
      "outputs": []
    },
    {
      "cell_type": "markdown",
      "source": [
        "# Monitoring - History of loss function"
      ],
      "metadata": {
        "id": "UnSf3krPjxTa"
      }
    },
    {
      "cell_type": "code",
      "source": [
        "def load_history(path):\n",
        "  with open(path, \"rb\") as file:\n",
        "    return pickle.load(file)"
      ],
      "metadata": {
        "id": "zRa6jBjAj0q-"
      },
      "execution_count": 36,
      "outputs": []
    },
    {
      "cell_type": "code",
      "source": [
        "h1 = load_history(HISTORY_PATH + \"/euclidean_model_64_history.pkl\")"
      ],
      "metadata": {
        "id": "xfTAf7pnj1ml"
      },
      "execution_count": 37,
      "outputs": []
    },
    {
      "cell_type": "code",
      "source": [
        "fig, axes = plt.subplots(2, 2, figsize=(10, 8))\n",
        "\n",
        "axes[0, 0].plot(h1['loss'])\n",
        "axes[0, 0].plot(h1['val_loss'])\n",
        "axes[0, 0].set_title('History of euclidean model 64')\n",
        "axes[0, 0].set_xlabel('epoch')\n",
        "axes[0, 0].set_ylabel('loss')\n",
        "axes[0, 0].legend(['Training', 'Validation'])\n",
        "plt.tight_layout()\n",
        "plt.show()"
      ],
      "metadata": {
        "id": "FnYjF4wbj-yk",
        "outputId": "20b31611-ec41-4404-88ec-145d838f8d2d",
        "colab": {
          "base_uri": "https://localhost:8080/",
          "height": 709
        }
      },
      "execution_count": 38,
      "outputs": [
        {
          "output_type": "display_data",
          "data": {
            "text/plain": [
              "<Figure size 1000x800 with 4 Axes>"
            ],
            "image/png": "[encoded data removed]"
          },
          "metadata": {}
        }
      ]
    },
    {
      "cell_type": "markdown",
      "source": [
        "# Predictions"
      ],
      "metadata": {
        "id": "CyBNS9v-lVj2"
      }
    },
    {
      "cell_type": "code",
      "source": [
        "from keras.models import load_model\n",
        "\n",
        "euc1_model = load_model(MODEL_PATH + \"/euclidean_model_1.keras\")"
      ],
      "metadata": {
        "id": "GkUJWIykkFWt"
      },
      "execution_count": 39,
      "outputs": []
    },
    {
      "cell_type": "code",
      "source": [
        "def full_image(nb_img, center):\n",
        "  modified_image = np.copy(nb_img)\n",
        "  center_x = nb_img.shape[0] // 2\n",
        "  center_y = nb_img.shape[1] // 2\n",
        "  modified_image[center_x-5:center_x+5, center_y-5:center_y+5, :] = center\n",
        "\n",
        "  return modified_image\n",
        "\n",
        "\n",
        "def load_testing_dataset():\n",
        "  TESTING_DATA_FOLDER = os.path.join('Dataset', 'Testing_Data')\n",
        "  test_data = []\n",
        "\n",
        "  csv_file = pd.read_csv(os.path.join(TESTING_DATA_FOLDER, 'masked_info.csv'))\n",
        "  adjust_box_coordinate(csv_file)\n",
        "\n",
        "  for filename in os.listdir(TESTING_DATA_FOLDER):\n",
        "    if filename.endswith('.csv'):\n",
        "            continue\n",
        "    img = cv2.imread(os.path.join(TESTING_DATA_FOLDER, filename))\n",
        "    img = cv2.resize(img, img_size)\n",
        "    img_rgbm = draw_masks(img, csv_file[csv_file['filename'] == filename].iloc[0], box_size)\n",
        "    test_data.append(img_rgbm)\n",
        "  return test_data"
      ],
      "metadata": {
        "id": "1cUp5kFaleXw"
      },
      "execution_count": 40,
      "outputs": []
    },
    {
      "cell_type": "code",
      "source": [
        "#data = load_testing_dataset()[0:5]"
      ],
      "metadata": {
        "id": "hfT7yvEEsjk_"
      },
      "execution_count": 41,
      "outputs": []
    },
    {
      "cell_type": "code",
      "source": [
        "x = X_train[0:5]"
      ],
      "metadata": {
        "id": "AS6RREt-7Sps"
      },
      "execution_count": 57,
      "outputs": []
    },
    {
      "cell_type": "code",
      "source": [
        "x = np.stack(data)"
      ],
      "metadata": {
        "id": "fqxgCdrqvGvg"
      },
      "execution_count": 42,
      "outputs": []
    },
    {
      "cell_type": "code",
      "source": [
        "pred = euc1_model.predict(x)"
      ],
      "metadata": {
        "id": "fOlSVDhbvbkX",
        "outputId": "65c4b86f-101e-492f-db64-adf4f3c6d4dc",
        "colab": {
          "base_uri": "https://localhost:8080/"
        }
      },
      "execution_count": 58,
      "outputs": [
        {
          "output_type": "stream",
          "name": "stdout",
          "text": [
            "1/1 [==============================] - 0s 105ms/step\n"
          ]
        }
      ]
    },
    {
      "cell_type": "code",
      "source": [
        "data[0].shape"
      ],
      "metadata": {
        "id": "9u90-0hY3cur",
        "outputId": "1d8de61f-1c35-4d91-b3bb-88b858ac9f79",
        "colab": {
          "base_uri": "https://localhost:8080/"
        }
      },
      "execution_count": 51,
      "outputs": [
        {
          "output_type": "execute_result",
          "data": {
            "text/plain": [
              "(64, 64, 4)"
            ]
          },
          "metadata": {},
          "execution_count": 51
        }
      ]
    },
    {
      "cell_type": "code",
      "source": [
        "show_img(np.reshape(pred[4], (15, 15, 3)))"
      ],
      "metadata": {
        "id": "u_yMpEPAxSFG",
        "outputId": "2d4c98bc-6789-49bb-8d6e-a827824130bd",
        "colab": {
          "base_uri": "https://localhost:8080/",
          "height": 406
        }
      },
      "execution_count": 59,
      "outputs": [
        {
          "output_type": "display_data",
          "data": {
            "text/plain": [
              "<Figure size 640x480 with 1 Axes>"
            ],
            "image/png": "[encoded data removed]"
          },
          "metadata": {}
        }
      ]
    },
    {
      "cell_type": "code",
      "source": [
        "def full_image(x_rgbm_img, y_img):\n",
        "  modified_image = np.copy(x_rgbm_img[:, :, :3])\n",
        "  y_img_255 = y_img * 255\n",
        "  mask = x_rgbm_img[:,:,3]\n",
        "\n",
        "  coords = np.argwhere(mask == 1)\n",
        "\n",
        "  x_min = np.min(coords[:, 0])\n",
        "  y_min = np.min(coords[:, 1])\n",
        "\n",
        "  modified_image[x_min:x_min+15, y_min:y_min+15, :] = y_img_255\n",
        "\n",
        "  return modified_image"
      ],
      "metadata": {
        "id": "-mKuz8HAmJzv"
      },
      "execution_count": 52,
      "outputs": []
    },
    {
      "cell_type": "code",
      "source": [
        "show_img(full_image(x[3],np.reshape(pred[3], (15, 15, 3))))"
      ],
      "metadata": {
        "id": "5GrHjk-_55Mv",
        "outputId": "4d793db1-9a74-4f0c-8f9c-702c89576519",
        "colab": {
          "base_uri": "https://localhost:8080/",
          "height": 406
        }
      },
      "execution_count": 64,
      "outputs": [
        {
          "output_type": "display_data",
          "data": {
            "text/plain": [
              "<Figure size 640x480 with 1 Axes>"
            ],
            "image/png": "[encoded data removed]"
          },
          "metadata": {}
        }
      ]
    }
  ]
}