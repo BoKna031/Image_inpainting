{
  "nbformat": 4,
  "nbformat_minor": 0,
  "metadata": {
    "colab": {
      "provenance": [],
      "mount_file_id": "https://github.com/BoKna031/Image_inpainting/blob/gaussian_cnn/Image_inpainting.ipynb",
      "authorship_tag": "ABX9TyPMtbvicbN7m4XUFnTP8x4e",
      "include_colab_link": true
    },
    "kernelspec": {
      "name": "python3",
      "display_name": "Python 3"
    },
    "language_info": {
      "name": "python"
    }
  },
  "cells": [
    {
      "cell_type": "markdown",
      "metadata": {
        "id": "view-in-github",
        "colab_type": "text"
      },
      "source": [
        "<a href=\"https://colab.research.google.com/github/BoKna031/Image_inpainting/blob/gaussian_cnn/Image_inpainting.ipynb\" target=\"_parent\"><img src=\"https://colab.research.google.com/assets/colab-badge.svg\" alt=\"Open In Colab\"/></a>"
      ]
    },
    {
      "cell_type": "markdown",
      "source": [
        "# Connect to Kaggle dataset"
      ],
      "metadata": {
        "id": "BvAMCySwiWzx"
      }
    },
    {
      "cell_type": "code",
      "execution_count": 1,
      "metadata": {
        "id": "4Kz3jYZ_e5jS",
        "outputId": "0a66f7a1-71dc-43a3-99fe-acef9106fccf",
        "colab": {
          "base_uri": "https://localhost:8080/"
        }
      },
      "outputs": [
        {
          "output_type": "stream",
          "name": "stdout",
          "text": [
            "mkdir: cannot create directory ‘/root/.kaggle’: File exists\n",
            "cp: cannot stat 'kaggle.json': No such file or directory\n",
            "chmod: cannot access '/root/.kaggle/kaggle.json': No such file or directory\n"
          ]
        }
      ],
      "source": [
        "! pip install -q kaggle\n",
        "! mkdir ~/.kaggle\n",
        "! cp kaggle.json ~/.kaggle/\n",
        "! chmod 600 ~/.kaggle/kaggle.json\n",
        "#! kaggle datasets list"
      ]
    },
    {
      "cell_type": "code",
      "source": [
        "!kaggle datasets download -d amanara/photos\n",
        "!unzip photos.zip;"
      ],
      "metadata": {
        "id": "fQ5nH5PiigSi",
        "outputId": "e8bd5ab0-b55b-4d3e-99c7-bac0bff87242",
        "colab": {
          "base_uri": "https://localhost:8080/"
        }
      },
      "execution_count": 2,
      "outputs": [
        {
          "output_type": "stream",
          "name": "stdout",
          "text": [
            "Dataset URL: https://www.kaggle.com/datasets/amanara/photos\n",
            "License(s): unknown\n",
            "photos.zip: Skipping, found more recently modified local copy (use --force to force download)\n",
            "Archive:  photos.zip\n",
            "replace Dataset/Testing_Data/Cat-Train (1).png? [y]es, [n]o, [A]ll, [N]one, [r]ename: N\n"
          ]
        }
      ]
    },
    {
      "cell_type": "markdown",
      "source": [
        "# Data preparation"
      ],
      "metadata": {
        "id": "cQfLL1RukasJ"
      }
    },
    {
      "cell_type": "code",
      "source": [
        "import os\n",
        "import cv2\n",
        "import pandas as pd\n",
        "import matplotlib.pyplot as plt\n",
        "\n",
        "TRAIN = 'Train'\n",
        "TEST = 'Test'\n",
        "img_size = (64, 64)\n",
        "\n",
        "def load_training_dataset(category):\n",
        "  TRAINING_DATA_FOLDER = os.path.join('Dataset', 'Training_Data', category)\n",
        "  x_doc = os.path.join('Dataset', 'Training_Data', category, 'Masked_Train')\n",
        "  x_imgs = _load_images_from_folder(x_doc, category, TRAIN)\n",
        "  y_doc = os.path.join('Dataset', 'Training_Data', category, 'Unmasked_Train')\n",
        "  y_imgs = _load_images_from_folder(y_doc, category, TRAIN)\n",
        "  csv_file = pd.read_csv(os.path.join(TRAINING_DATA_FOLDER, 'masked_info.csv'))\n",
        "  adjust_box_coordinate(csv_file)\n",
        "  return x_imgs, y_imgs, csv_file\n",
        "\n",
        "def adjust_box_coordinate(csv_df):\n",
        "  ORG_IMG_SIZE = (256,256)\n",
        "  scale_xy = img_size[0] / ORG_IMG_SIZE[0]\n",
        "  csv_df[['box1_row', 'box1_col', 'box2_row', 'box2_col']] = (csv_df[['box1_row', 'box1_col', 'box2_row', 'box2_col']] * scale_xy).astype(int)\n",
        "\n",
        "\n",
        "def _load_images_from_folder(folder, category, set_type):\n",
        "    images = []\n",
        "    for filename in os.listdir(folder):\n",
        "            img = cv2.imread(os.path.join(folder, filename))\n",
        "            img = cv2.resize(img, img_size)\n",
        "            if img is not None:\n",
        "              id, format = _parse_filename(filename)\n",
        "              images.append({'filename': filename, 'category': category, 'id': id, 'set_type': set_type, 'format': format, 'image': img})\n",
        "    images_df = pd.DataFrame(images, columns=['filename', 'category', 'id', 'set_type', 'format', 'image'])\n",
        "    return images_df\n",
        "\n",
        "import re\n",
        "\n",
        "def _parse_filename(filename):\n",
        "    regex_pattern = r'.*\\((\\d+)\\)\\.(\\w+)$'\n",
        "\n",
        "    match = re.match(regex_pattern, filename)\n",
        "\n",
        "    if match:\n",
        "        id = int(match.group(1))\n",
        "        format =  match.group(2)\n",
        "        return id, format\n",
        "    else:\n",
        "        return  None, None\n",
        "\n",
        "def show_img(img, gray = False):\n",
        "  if gray:\n",
        "    plt.imshow(img, 'gray')\n",
        "  else:\n",
        "    plt.imshow(img)\n",
        "  plt.axis('off')\n",
        "  plt.show()\n"
      ],
      "metadata": {
        "id": "ZeT6LgXzjLku"
      },
      "execution_count": 3,
      "outputs": []
    },
    {
      "cell_type": "code",
      "source": [
        "categories = ['Cat', 'Dog', 'Elephant', 'Tiger']"
      ],
      "metadata": {
        "id": "wVlCRIZBqi-z"
      },
      "execution_count": 4,
      "outputs": []
    },
    {
      "cell_type": "markdown",
      "source": [
        "# Data analyzing"
      ],
      "metadata": {
        "id": "PPg0h5Cn3ymS"
      }
    },
    {
      "cell_type": "code",
      "source": [
        "category = categories[0]\n",
        "_, y, csv = load_training_dataset(category)\n",
        "x_size = y['image'].apply(lambda img: pd.Series({'rows':img.shape[0], 'cols': img.shape[1]})).groupby(['rows','cols']).size()\n",
        "print(f\"{category}\\n---------------------------\")\n",
        "print(\"total size = \",y.shape[0])\n",
        "print(x_size)"
      ],
      "metadata": {
        "id": "gQ2pgD6Q3_DY",
        "outputId": "ddd2a315-9497-4300-fefb-abb09ca8dacf",
        "colab": {
          "base_uri": "https://localhost:8080/"
        }
      },
      "execution_count": 5,
      "outputs": [
        {
          "output_type": "stream",
          "name": "stdout",
          "text": [
            "Cat\n",
            "---------------------------\n",
            "total size =  1750\n",
            "rows  cols\n",
            "64    64      1750\n",
            "dtype: int64\n"
          ]
        }
      ]
    },
    {
      "cell_type": "markdown",
      "source": [
        "From the shown, it can be seen that all the images are of size 168x168"
      ],
      "metadata": {
        "id": "eQEIwWFz50Gf"
      }
    },
    {
      "cell_type": "code",
      "source": [
        "csv.head()"
      ],
      "metadata": {
        "id": "1FC1ec9j65wE",
        "outputId": "b7750dfb-6fc0-4e0f-9ed2-a03a2ef559cf",
        "colab": {
          "base_uri": "https://localhost:8080/",
          "height": 206
        }
      },
      "execution_count": 6,
      "outputs": [
        {
          "output_type": "execute_result",
          "data": {
            "text/plain": [
              "   Unnamed: 0               filename  box1_row  box1_col  box2_row  box2_col\n",
              "0           0  Cat-Train (1085).jpeg        16         1        10        38\n",
              "1           1   Cat-Train (900).jpeg        21         5        26        41\n",
              "2           2  Cat-Train (1759).jpeg        15        24         0        35\n",
              "3           3   Cat-Train (969).jpeg         3        34        11        34\n",
              "4           4  Cat-Train (1559).jpeg        26        23        10        39"
            ],
            "text/html": [
              "\n",
              "  <div id=\"df-4ee59e94-a091-48ed-b406-0edf193e0515\" class=\"colab-df-container\">\n",
              "    <div>\n",
              "<style scoped>\n",
              "    .dataframe tbody tr th:only-of-type {\n",
              "        vertical-align: middle;\n",
              "    }\n",
              "\n",
              "    .dataframe tbody tr th {\n",
              "        vertical-align: top;\n",
              "    }\n",
              "\n",
              "    .dataframe thead th {\n",
              "        text-align: right;\n",
              "    }\n",
              "</style>\n",
              "<table border=\"1\" class=\"dataframe\">\n",
              "  <thead>\n",
              "    <tr style=\"text-align: right;\">\n",
              "      <th></th>\n",
              "      <th>Unnamed: 0</th>\n",
              "      <th>filename</th>\n",
              "      <th>box1_row</th>\n",
              "      <th>box1_col</th>\n",
              "      <th>box2_row</th>\n",
              "      <th>box2_col</th>\n",
              "    </tr>\n",
              "  </thead>\n",
              "  <tbody>\n",
              "    <tr>\n",
              "      <th>0</th>\n",
              "      <td>0</td>\n",
              "      <td>Cat-Train (1085).jpeg</td>\n",
              "      <td>16</td>\n",
              "      <td>1</td>\n",
              "      <td>10</td>\n",
              "      <td>38</td>\n",
              "    </tr>\n",
              "    <tr>\n",
              "      <th>1</th>\n",
              "      <td>1</td>\n",
              "      <td>Cat-Train (900).jpeg</td>\n",
              "      <td>21</td>\n",
              "      <td>5</td>\n",
              "      <td>26</td>\n",
              "      <td>41</td>\n",
              "    </tr>\n",
              "    <tr>\n",
              "      <th>2</th>\n",
              "      <td>2</td>\n",
              "      <td>Cat-Train (1759).jpeg</td>\n",
              "      <td>15</td>\n",
              "      <td>24</td>\n",
              "      <td>0</td>\n",
              "      <td>35</td>\n",
              "    </tr>\n",
              "    <tr>\n",
              "      <th>3</th>\n",
              "      <td>3</td>\n",
              "      <td>Cat-Train (969).jpeg</td>\n",
              "      <td>3</td>\n",
              "      <td>34</td>\n",
              "      <td>11</td>\n",
              "      <td>34</td>\n",
              "    </tr>\n",
              "    <tr>\n",
              "      <th>4</th>\n",
              "      <td>4</td>\n",
              "      <td>Cat-Train (1559).jpeg</td>\n",
              "      <td>26</td>\n",
              "      <td>23</td>\n",
              "      <td>10</td>\n",
              "      <td>39</td>\n",
              "    </tr>\n",
              "  </tbody>\n",
              "</table>\n",
              "</div>\n",
              "    <div class=\"colab-df-buttons\">\n",
              "\n",
              "  <div class=\"colab-df-container\">\n",
              "    <button class=\"colab-df-convert\" onclick=\"convertToInteractive('df-4ee59e94-a091-48ed-b406-0edf193e0515')\"\n",
              "            title=\"Convert this dataframe to an interactive table.\"\n",
              "            style=\"display:none;\">\n",
              "\n",
              "  <svg xmlns=\"http://www.w3.org/2000/svg\" height=\"24px\" viewBox=\"0 -960 960 960\">\n",
              "    <path d=\"M120-120v-720h720v720H120Zm60-500h600v-160H180v160Zm220 220h160v-160H400v160Zm0 220h160v-160H400v160ZM180-400h160v-160H180v160Zm440 0h160v-160H620v160ZM180-180h160v-160H180v160Zm440 0h160v-160H620v160Z\"/>\n",
              "  </svg>\n",
              "    </button>\n",
              "\n",
              "  <style>\n",
              "    .colab-df-container {\n",
              "      display:flex;\n",
              "      gap: 12px;\n",
              "    }\n",
              "\n",
              "    .colab-df-convert {\n",
              "      background-color: #E8F0FE;\n",
              "      border: none;\n",
              "      border-radius: 50%;\n",
              "      cursor: pointer;\n",
              "      display: none;\n",
              "      fill: #1967D2;\n",
              "      height: 32px;\n",
              "      padding: 0 0 0 0;\n",
              "      width: 32px;\n",
              "    }\n",
              "\n",
              "    .colab-df-convert:hover {\n",
              "      background-color: #E2EBFA;\n",
              "      box-shadow: 0px 1px 2px rgba(60, 64, 67, 0.3), 0px 1px 3px 1px rgba(60, 64, 67, 0.15);\n",
              "      fill: #174EA6;\n",
              "    }\n",
              "\n",
              "    .colab-df-buttons div {\n",
              "      margin-bottom: 4px;\n",
              "    }\n",
              "\n",
              "    [theme=dark] .colab-df-convert {\n",
              "      background-color: #3B4455;\n",
              "      fill: #D2E3FC;\n",
              "    }\n",
              "\n",
              "    [theme=dark] .colab-df-convert:hover {\n",
              "      background-color: #434B5C;\n",
              "      box-shadow: 0px 1px 3px 1px rgba(0, 0, 0, 0.15);\n",
              "      filter: drop-shadow(0px 1px 2px rgba(0, 0, 0, 0.3));\n",
              "      fill: #FFFFFF;\n",
              "    }\n",
              "  </style>\n",
              "\n",
              "    <script>\n",
              "      const buttonEl =\n",
              "        document.querySelector('#df-4ee59e94-a091-48ed-b406-0edf193e0515 button.colab-df-convert');\n",
              "      buttonEl.style.display =\n",
              "        google.colab.kernel.accessAllowed ? 'block' : 'none';\n",
              "\n",
              "      async function convertToInteractive(key) {\n",
              "        const element = document.querySelector('#df-4ee59e94-a091-48ed-b406-0edf193e0515');\n",
              "        const dataTable =\n",
              "          await google.colab.kernel.invokeFunction('convertToInteractive',\n",
              "                                                    [key], {});\n",
              "        if (!dataTable) return;\n",
              "\n",
              "        const docLinkHtml = 'Like what you see? Visit the ' +\n",
              "          '<a target=\"_blank\" href=https://colab.research.google.com/notebooks/data_table.ipynb>data table notebook</a>'\n",
              "          + ' to learn more about interactive tables.';\n",
              "        element.innerHTML = '';\n",
              "        dataTable['output_type'] = 'display_data';\n",
              "        await google.colab.output.renderOutput(dataTable, element);\n",
              "        const docLink = document.createElement('div');\n",
              "        docLink.innerHTML = docLinkHtml;\n",
              "        element.appendChild(docLink);\n",
              "      }\n",
              "    </script>\n",
              "  </div>\n",
              "\n",
              "\n",
              "<div id=\"df-3a7cc16f-3cec-48c6-a7c7-c35385856edc\">\n",
              "  <button class=\"colab-df-quickchart\" onclick=\"quickchart('df-3a7cc16f-3cec-48c6-a7c7-c35385856edc')\"\n",
              "            title=\"Suggest charts\"\n",
              "            style=\"display:none;\">\n",
              "\n",
              "<svg xmlns=\"http://www.w3.org/2000/svg\" height=\"24px\"viewBox=\"0 0 24 24\"\n",
              "     width=\"24px\">\n",
              "    <g>\n",
              "        <path d=\"M19 3H5c-1.1 0-2 .9-2 2v14c0 1.1.9 2 2 2h14c1.1 0 2-.9 2-2V5c0-1.1-.9-2-2-2zM9 17H7v-7h2v7zm4 0h-2V7h2v10zm4 0h-2v-4h2v4z\"/>\n",
              "    </g>\n",
              "</svg>\n",
              "  </button>\n",
              "\n",
              "<style>\n",
              "  .colab-df-quickchart {\n",
              "      --bg-color: #E8F0FE;\n",
              "      --fill-color: #1967D2;\n",
              "      --hover-bg-color: #E2EBFA;\n",
              "      --hover-fill-color: #174EA6;\n",
              "      --disabled-fill-color: #AAA;\n",
              "      --disabled-bg-color: #DDD;\n",
              "  }\n",
              "\n",
              "  [theme=dark] .colab-df-quickchart {\n",
              "      --bg-color: #3B4455;\n",
              "      --fill-color: #D2E3FC;\n",
              "      --hover-bg-color: #434B5C;\n",
              "      --hover-fill-color: #FFFFFF;\n",
              "      --disabled-bg-color: #3B4455;\n",
              "      --disabled-fill-color: #666;\n",
              "  }\n",
              "\n",
              "  .colab-df-quickchart {\n",
              "    background-color: var(--bg-color);\n",
              "    border: none;\n",
              "    border-radius: 50%;\n",
              "    cursor: pointer;\n",
              "    display: none;\n",
              "    fill: var(--fill-color);\n",
              "    height: 32px;\n",
              "    padding: 0;\n",
              "    width: 32px;\n",
              "  }\n",
              "\n",
              "  .colab-df-quickchart:hover {\n",
              "    background-color: var(--hover-bg-color);\n",
              "    box-shadow: 0 1px 2px rgba(60, 64, 67, 0.3), 0 1px 3px 1px rgba(60, 64, 67, 0.15);\n",
              "    fill: var(--button-hover-fill-color);\n",
              "  }\n",
              "\n",
              "  .colab-df-quickchart-complete:disabled,\n",
              "  .colab-df-quickchart-complete:disabled:hover {\n",
              "    background-color: var(--disabled-bg-color);\n",
              "    fill: var(--disabled-fill-color);\n",
              "    box-shadow: none;\n",
              "  }\n",
              "\n",
              "  .colab-df-spinner {\n",
              "    border: 2px solid var(--fill-color);\n",
              "    border-color: transparent;\n",
              "    border-bottom-color: var(--fill-color);\n",
              "    animation:\n",
              "      spin 1s steps(1) infinite;\n",
              "  }\n",
              "\n",
              "  @keyframes spin {\n",
              "    0% {\n",
              "      border-color: transparent;\n",
              "      border-bottom-color: var(--fill-color);\n",
              "      border-left-color: var(--fill-color);\n",
              "    }\n",
              "    20% {\n",
              "      border-color: transparent;\n",
              "      border-left-color: var(--fill-color);\n",
              "      border-top-color: var(--fill-color);\n",
              "    }\n",
              "    30% {\n",
              "      border-color: transparent;\n",
              "      border-left-color: var(--fill-color);\n",
              "      border-top-color: var(--fill-color);\n",
              "      border-right-color: var(--fill-color);\n",
              "    }\n",
              "    40% {\n",
              "      border-color: transparent;\n",
              "      border-right-color: var(--fill-color);\n",
              "      border-top-color: var(--fill-color);\n",
              "    }\n",
              "    60% {\n",
              "      border-color: transparent;\n",
              "      border-right-color: var(--fill-color);\n",
              "    }\n",
              "    80% {\n",
              "      border-color: transparent;\n",
              "      border-right-color: var(--fill-color);\n",
              "      border-bottom-color: var(--fill-color);\n",
              "    }\n",
              "    90% {\n",
              "      border-color: transparent;\n",
              "      border-bottom-color: var(--fill-color);\n",
              "    }\n",
              "  }\n",
              "</style>\n",
              "\n",
              "  <script>\n",
              "    async function quickchart(key) {\n",
              "      const quickchartButtonEl =\n",
              "        document.querySelector('#' + key + ' button');\n",
              "      quickchartButtonEl.disabled = true;  // To prevent multiple clicks.\n",
              "      quickchartButtonEl.classList.add('colab-df-spinner');\n",
              "      try {\n",
              "        const charts = await google.colab.kernel.invokeFunction(\n",
              "            'suggestCharts', [key], {});\n",
              "      } catch (error) {\n",
              "        console.error('Error during call to suggestCharts:', error);\n",
              "      }\n",
              "      quickchartButtonEl.classList.remove('colab-df-spinner');\n",
              "      quickchartButtonEl.classList.add('colab-df-quickchart-complete');\n",
              "    }\n",
              "    (() => {\n",
              "      let quickchartButtonEl =\n",
              "        document.querySelector('#df-3a7cc16f-3cec-48c6-a7c7-c35385856edc button');\n",
              "      quickchartButtonEl.style.display =\n",
              "        google.colab.kernel.accessAllowed ? 'block' : 'none';\n",
              "    })();\n",
              "  </script>\n",
              "</div>\n",
              "    </div>\n",
              "  </div>\n"
            ],
            "application/vnd.google.colaboratory.intrinsic+json": {
              "type": "dataframe",
              "variable_name": "csv",
              "summary": "{\n  \"name\": \"csv\",\n  \"rows\": 1750,\n  \"fields\": [\n    {\n      \"column\": \"Unnamed: 0\",\n      \"properties\": {\n        \"dtype\": \"number\",\n        \"std\": 505,\n        \"min\": 0,\n        \"max\": 1749,\n        \"num_unique_values\": 1750,\n        \"samples\": [\n          1246,\n          862,\n          298\n        ],\n        \"semantic_type\": \"\",\n        \"description\": \"\"\n      }\n    },\n    {\n      \"column\": \"filename\",\n      \"properties\": {\n        \"dtype\": \"string\",\n        \"num_unique_values\": 1750,\n        \"samples\": [\n          \"Cat-Train (827).jpeg\",\n          \"Cat-Train (548).jpeg\",\n          \"Cat-Train (444).jpeg\"\n        ],\n        \"semantic_type\": \"\",\n        \"description\": \"\"\n      }\n    },\n    {\n      \"column\": \"box1_row\",\n      \"properties\": {\n        \"dtype\": \"number\",\n        \"std\": 13,\n        \"min\": 0,\n        \"max\": 45,\n        \"num_unique_values\": 46,\n        \"samples\": [\n          45,\n          43,\n          4\n        ],\n        \"semantic_type\": \"\",\n        \"description\": \"\"\n      }\n    },\n    {\n      \"column\": \"box1_col\",\n      \"properties\": {\n        \"dtype\": \"number\",\n        \"std\": 13,\n        \"min\": 0,\n        \"max\": 45,\n        \"num_unique_values\": 46,\n        \"samples\": [\n          0,\n          22,\n          12\n        ],\n        \"semantic_type\": \"\",\n        \"description\": \"\"\n      }\n    },\n    {\n      \"column\": \"box2_row\",\n      \"properties\": {\n        \"dtype\": \"number\",\n        \"std\": 13,\n        \"min\": 0,\n        \"max\": 45,\n        \"num_unique_values\": 46,\n        \"samples\": [\n          33,\n          42,\n          17\n        ],\n        \"semantic_type\": \"\",\n        \"description\": \"\"\n      }\n    },\n    {\n      \"column\": \"box2_col\",\n      \"properties\": {\n        \"dtype\": \"number\",\n        \"std\": 12,\n        \"min\": 0,\n        \"max\": 45,\n        \"num_unique_values\": 46,\n        \"samples\": [\n          6,\n          2,\n          31\n        ],\n        \"semantic_type\": \"\",\n        \"description\": \"\"\n      }\n    }\n  ]\n}"
            }
          },
          "metadata": {},
          "execution_count": 6
        }
      ]
    },
    {
      "cell_type": "code",
      "source": [
        "box_size = [15, 15]\n",
        "\n",
        "def is_within_bounds(row, col):\n",
        "  return row + box_size[0] <= img_size[0] and col + box_size[1] <= img_size[1]"
      ],
      "metadata": {
        "id": "c8ubrfS47z8h"
      },
      "execution_count": 7,
      "outputs": []
    },
    {
      "cell_type": "code",
      "source": [
        "csv['box1_within_bounds'] = csv.apply(lambda row: is_within_bounds(row['box1_row'], row['box1_col']), axis=1)\n",
        "csv['box2_within_bounds'] = csv.apply(lambda row: is_within_bounds(row['box2_row'], row['box2_col']), axis=1)\n",
        "invalid_boxes = csv[(~csv['box1_within_bounds']) | (~csv['box2_within_bounds'])]"
      ],
      "metadata": {
        "id": "WiC8SmzD6XBW"
      },
      "execution_count": 8,
      "outputs": []
    },
    {
      "cell_type": "code",
      "source": [
        "csv.head()"
      ],
      "metadata": {
        "id": "hZ2KkbW_84_u",
        "outputId": "b2affc14-7800-4fb0-8230-740d0af15775",
        "colab": {
          "base_uri": "https://localhost:8080/",
          "height": 276
        }
      },
      "execution_count": 9,
      "outputs": [
        {
          "output_type": "execute_result",
          "data": {
            "text/plain": [
              "   Unnamed: 0               filename  box1_row  box1_col  box2_row  box2_col  \\\n",
              "0           0  Cat-Train (1085).jpeg        16         1        10        38   \n",
              "1           1   Cat-Train (900).jpeg        21         5        26        41   \n",
              "2           2  Cat-Train (1759).jpeg        15        24         0        35   \n",
              "3           3   Cat-Train (969).jpeg         3        34        11        34   \n",
              "4           4  Cat-Train (1559).jpeg        26        23        10        39   \n",
              "\n",
              "   box1_within_bounds  box2_within_bounds  \n",
              "0                True                True  \n",
              "1                True                True  \n",
              "2                True                True  \n",
              "3                True                True  \n",
              "4                True                True  "
            ],
            "text/html": [
              "\n",
              "  <div id=\"df-a1d744bd-0296-48e7-8363-ce45d8c4649f\" class=\"colab-df-container\">\n",
              "    <div>\n",
              "<style scoped>\n",
              "    .dataframe tbody tr th:only-of-type {\n",
              "        vertical-align: middle;\n",
              "    }\n",
              "\n",
              "    .dataframe tbody tr th {\n",
              "        vertical-align: top;\n",
              "    }\n",
              "\n",
              "    .dataframe thead th {\n",
              "        text-align: right;\n",
              "    }\n",
              "</style>\n",
              "<table border=\"1\" class=\"dataframe\">\n",
              "  <thead>\n",
              "    <tr style=\"text-align: right;\">\n",
              "      <th></th>\n",
              "      <th>Unnamed: 0</th>\n",
              "      <th>filename</th>\n",
              "      <th>box1_row</th>\n",
              "      <th>box1_col</th>\n",
              "      <th>box2_row</th>\n",
              "      <th>box2_col</th>\n",
              "      <th>box1_within_bounds</th>\n",
              "      <th>box2_within_bounds</th>\n",
              "    </tr>\n",
              "  </thead>\n",
              "  <tbody>\n",
              "    <tr>\n",
              "      <th>0</th>\n",
              "      <td>0</td>\n",
              "      <td>Cat-Train (1085).jpeg</td>\n",
              "      <td>16</td>\n",
              "      <td>1</td>\n",
              "      <td>10</td>\n",
              "      <td>38</td>\n",
              "      <td>True</td>\n",
              "      <td>True</td>\n",
              "    </tr>\n",
              "    <tr>\n",
              "      <th>1</th>\n",
              "      <td>1</td>\n",
              "      <td>Cat-Train (900).jpeg</td>\n",
              "      <td>21</td>\n",
              "      <td>5</td>\n",
              "      <td>26</td>\n",
              "      <td>41</td>\n",
              "      <td>True</td>\n",
              "      <td>True</td>\n",
              "    </tr>\n",
              "    <tr>\n",
              "      <th>2</th>\n",
              "      <td>2</td>\n",
              "      <td>Cat-Train (1759).jpeg</td>\n",
              "      <td>15</td>\n",
              "      <td>24</td>\n",
              "      <td>0</td>\n",
              "      <td>35</td>\n",
              "      <td>True</td>\n",
              "      <td>True</td>\n",
              "    </tr>\n",
              "    <tr>\n",
              "      <th>3</th>\n",
              "      <td>3</td>\n",
              "      <td>Cat-Train (969).jpeg</td>\n",
              "      <td>3</td>\n",
              "      <td>34</td>\n",
              "      <td>11</td>\n",
              "      <td>34</td>\n",
              "      <td>True</td>\n",
              "      <td>True</td>\n",
              "    </tr>\n",
              "    <tr>\n",
              "      <th>4</th>\n",
              "      <td>4</td>\n",
              "      <td>Cat-Train (1559).jpeg</td>\n",
              "      <td>26</td>\n",
              "      <td>23</td>\n",
              "      <td>10</td>\n",
              "      <td>39</td>\n",
              "      <td>True</td>\n",
              "      <td>True</td>\n",
              "    </tr>\n",
              "  </tbody>\n",
              "</table>\n",
              "</div>\n",
              "    <div class=\"colab-df-buttons\">\n",
              "\n",
              "  <div class=\"colab-df-container\">\n",
              "    <button class=\"colab-df-convert\" onclick=\"convertToInteractive('df-a1d744bd-0296-48e7-8363-ce45d8c4649f')\"\n",
              "            title=\"Convert this dataframe to an interactive table.\"\n",
              "            style=\"display:none;\">\n",
              "\n",
              "  <svg xmlns=\"http://www.w3.org/2000/svg\" height=\"24px\" viewBox=\"0 -960 960 960\">\n",
              "    <path d=\"M120-120v-720h720v720H120Zm60-500h600v-160H180v160Zm220 220h160v-160H400v160Zm0 220h160v-160H400v160ZM180-400h160v-160H180v160Zm440 0h160v-160H620v160ZM180-180h160v-160H180v160Zm440 0h160v-160H620v160Z\"/>\n",
              "  </svg>\n",
              "    </button>\n",
              "\n",
              "  <style>\n",
              "    .colab-df-container {\n",
              "      display:flex;\n",
              "      gap: 12px;\n",
              "    }\n",
              "\n",
              "    .colab-df-convert {\n",
              "      background-color: #E8F0FE;\n",
              "      border: none;\n",
              "      border-radius: 50%;\n",
              "      cursor: pointer;\n",
              "      display: none;\n",
              "      fill: #1967D2;\n",
              "      height: 32px;\n",
              "      padding: 0 0 0 0;\n",
              "      width: 32px;\n",
              "    }\n",
              "\n",
              "    .colab-df-convert:hover {\n",
              "      background-color: #E2EBFA;\n",
              "      box-shadow: 0px 1px 2px rgba(60, 64, 67, 0.3), 0px 1px 3px 1px rgba(60, 64, 67, 0.15);\n",
              "      fill: #174EA6;\n",
              "    }\n",
              "\n",
              "    .colab-df-buttons div {\n",
              "      margin-bottom: 4px;\n",
              "    }\n",
              "\n",
              "    [theme=dark] .colab-df-convert {\n",
              "      background-color: #3B4455;\n",
              "      fill: #D2E3FC;\n",
              "    }\n",
              "\n",
              "    [theme=dark] .colab-df-convert:hover {\n",
              "      background-color: #434B5C;\n",
              "      box-shadow: 0px 1px 3px 1px rgba(0, 0, 0, 0.15);\n",
              "      filter: drop-shadow(0px 1px 2px rgba(0, 0, 0, 0.3));\n",
              "      fill: #FFFFFF;\n",
              "    }\n",
              "  </style>\n",
              "\n",
              "    <script>\n",
              "      const buttonEl =\n",
              "        document.querySelector('#df-a1d744bd-0296-48e7-8363-ce45d8c4649f button.colab-df-convert');\n",
              "      buttonEl.style.display =\n",
              "        google.colab.kernel.accessAllowed ? 'block' : 'none';\n",
              "\n",
              "      async function convertToInteractive(key) {\n",
              "        const element = document.querySelector('#df-a1d744bd-0296-48e7-8363-ce45d8c4649f');\n",
              "        const dataTable =\n",
              "          await google.colab.kernel.invokeFunction('convertToInteractive',\n",
              "                                                    [key], {});\n",
              "        if (!dataTable) return;\n",
              "\n",
              "        const docLinkHtml = 'Like what you see? Visit the ' +\n",
              "          '<a target=\"_blank\" href=https://colab.research.google.com/notebooks/data_table.ipynb>data table notebook</a>'\n",
              "          + ' to learn more about interactive tables.';\n",
              "        element.innerHTML = '';\n",
              "        dataTable['output_type'] = 'display_data';\n",
              "        await google.colab.output.renderOutput(dataTable, element);\n",
              "        const docLink = document.createElement('div');\n",
              "        docLink.innerHTML = docLinkHtml;\n",
              "        element.appendChild(docLink);\n",
              "      }\n",
              "    </script>\n",
              "  </div>\n",
              "\n",
              "\n",
              "<div id=\"df-964a32dc-689e-423b-abef-ebb059c29a0e\">\n",
              "  <button class=\"colab-df-quickchart\" onclick=\"quickchart('df-964a32dc-689e-423b-abef-ebb059c29a0e')\"\n",
              "            title=\"Suggest charts\"\n",
              "            style=\"display:none;\">\n",
              "\n",
              "<svg xmlns=\"http://www.w3.org/2000/svg\" height=\"24px\"viewBox=\"0 0 24 24\"\n",
              "     width=\"24px\">\n",
              "    <g>\n",
              "        <path d=\"M19 3H5c-1.1 0-2 .9-2 2v14c0 1.1.9 2 2 2h14c1.1 0 2-.9 2-2V5c0-1.1-.9-2-2-2zM9 17H7v-7h2v7zm4 0h-2V7h2v10zm4 0h-2v-4h2v4z\"/>\n",
              "    </g>\n",
              "</svg>\n",
              "  </button>\n",
              "\n",
              "<style>\n",
              "  .colab-df-quickchart {\n",
              "      --bg-color: #E8F0FE;\n",
              "      --fill-color: #1967D2;\n",
              "      --hover-bg-color: #E2EBFA;\n",
              "      --hover-fill-color: #174EA6;\n",
              "      --disabled-fill-color: #AAA;\n",
              "      --disabled-bg-color: #DDD;\n",
              "  }\n",
              "\n",
              "  [theme=dark] .colab-df-quickchart {\n",
              "      --bg-color: #3B4455;\n",
              "      --fill-color: #D2E3FC;\n",
              "      --hover-bg-color: #434B5C;\n",
              "      --hover-fill-color: #FFFFFF;\n",
              "      --disabled-bg-color: #3B4455;\n",
              "      --disabled-fill-color: #666;\n",
              "  }\n",
              "\n",
              "  .colab-df-quickchart {\n",
              "    background-color: var(--bg-color);\n",
              "    border: none;\n",
              "    border-radius: 50%;\n",
              "    cursor: pointer;\n",
              "    display: none;\n",
              "    fill: var(--fill-color);\n",
              "    height: 32px;\n",
              "    padding: 0;\n",
              "    width: 32px;\n",
              "  }\n",
              "\n",
              "  .colab-df-quickchart:hover {\n",
              "    background-color: var(--hover-bg-color);\n",
              "    box-shadow: 0 1px 2px rgba(60, 64, 67, 0.3), 0 1px 3px 1px rgba(60, 64, 67, 0.15);\n",
              "    fill: var(--button-hover-fill-color);\n",
              "  }\n",
              "\n",
              "  .colab-df-quickchart-complete:disabled,\n",
              "  .colab-df-quickchart-complete:disabled:hover {\n",
              "    background-color: var(--disabled-bg-color);\n",
              "    fill: var(--disabled-fill-color);\n",
              "    box-shadow: none;\n",
              "  }\n",
              "\n",
              "  .colab-df-spinner {\n",
              "    border: 2px solid var(--fill-color);\n",
              "    border-color: transparent;\n",
              "    border-bottom-color: var(--fill-color);\n",
              "    animation:\n",
              "      spin 1s steps(1) infinite;\n",
              "  }\n",
              "\n",
              "  @keyframes spin {\n",
              "    0% {\n",
              "      border-color: transparent;\n",
              "      border-bottom-color: var(--fill-color);\n",
              "      border-left-color: var(--fill-color);\n",
              "    }\n",
              "    20% {\n",
              "      border-color: transparent;\n",
              "      border-left-color: var(--fill-color);\n",
              "      border-top-color: var(--fill-color);\n",
              "    }\n",
              "    30% {\n",
              "      border-color: transparent;\n",
              "      border-left-color: var(--fill-color);\n",
              "      border-top-color: var(--fill-color);\n",
              "      border-right-color: var(--fill-color);\n",
              "    }\n",
              "    40% {\n",
              "      border-color: transparent;\n",
              "      border-right-color: var(--fill-color);\n",
              "      border-top-color: var(--fill-color);\n",
              "    }\n",
              "    60% {\n",
              "      border-color: transparent;\n",
              "      border-right-color: var(--fill-color);\n",
              "    }\n",
              "    80% {\n",
              "      border-color: transparent;\n",
              "      border-right-color: var(--fill-color);\n",
              "      border-bottom-color: var(--fill-color);\n",
              "    }\n",
              "    90% {\n",
              "      border-color: transparent;\n",
              "      border-bottom-color: var(--fill-color);\n",
              "    }\n",
              "  }\n",
              "</style>\n",
              "\n",
              "  <script>\n",
              "    async function quickchart(key) {\n",
              "      const quickchartButtonEl =\n",
              "        document.querySelector('#' + key + ' button');\n",
              "      quickchartButtonEl.disabled = true;  // To prevent multiple clicks.\n",
              "      quickchartButtonEl.classList.add('colab-df-spinner');\n",
              "      try {\n",
              "        const charts = await google.colab.kernel.invokeFunction(\n",
              "            'suggestCharts', [key], {});\n",
              "      } catch (error) {\n",
              "        console.error('Error during call to suggestCharts:', error);\n",
              "      }\n",
              "      quickchartButtonEl.classList.remove('colab-df-spinner');\n",
              "      quickchartButtonEl.classList.add('colab-df-quickchart-complete');\n",
              "    }\n",
              "    (() => {\n",
              "      let quickchartButtonEl =\n",
              "        document.querySelector('#df-964a32dc-689e-423b-abef-ebb059c29a0e button');\n",
              "      quickchartButtonEl.style.display =\n",
              "        google.colab.kernel.accessAllowed ? 'block' : 'none';\n",
              "    })();\n",
              "  </script>\n",
              "</div>\n",
              "    </div>\n",
              "  </div>\n"
            ],
            "application/vnd.google.colaboratory.intrinsic+json": {
              "type": "dataframe",
              "variable_name": "csv",
              "summary": "{\n  \"name\": \"csv\",\n  \"rows\": 1750,\n  \"fields\": [\n    {\n      \"column\": \"Unnamed: 0\",\n      \"properties\": {\n        \"dtype\": \"number\",\n        \"std\": 505,\n        \"min\": 0,\n        \"max\": 1749,\n        \"num_unique_values\": 1750,\n        \"samples\": [\n          1246,\n          862,\n          298\n        ],\n        \"semantic_type\": \"\",\n        \"description\": \"\"\n      }\n    },\n    {\n      \"column\": \"filename\",\n      \"properties\": {\n        \"dtype\": \"string\",\n        \"num_unique_values\": 1750,\n        \"samples\": [\n          \"Cat-Train (827).jpeg\",\n          \"Cat-Train (548).jpeg\",\n          \"Cat-Train (444).jpeg\"\n        ],\n        \"semantic_type\": \"\",\n        \"description\": \"\"\n      }\n    },\n    {\n      \"column\": \"box1_row\",\n      \"properties\": {\n        \"dtype\": \"number\",\n        \"std\": 13,\n        \"min\": 0,\n        \"max\": 45,\n        \"num_unique_values\": 46,\n        \"samples\": [\n          45,\n          43,\n          4\n        ],\n        \"semantic_type\": \"\",\n        \"description\": \"\"\n      }\n    },\n    {\n      \"column\": \"box1_col\",\n      \"properties\": {\n        \"dtype\": \"number\",\n        \"std\": 13,\n        \"min\": 0,\n        \"max\": 45,\n        \"num_unique_values\": 46,\n        \"samples\": [\n          0,\n          22,\n          12\n        ],\n        \"semantic_type\": \"\",\n        \"description\": \"\"\n      }\n    },\n    {\n      \"column\": \"box2_row\",\n      \"properties\": {\n        \"dtype\": \"number\",\n        \"std\": 13,\n        \"min\": 0,\n        \"max\": 45,\n        \"num_unique_values\": 46,\n        \"samples\": [\n          33,\n          42,\n          17\n        ],\n        \"semantic_type\": \"\",\n        \"description\": \"\"\n      }\n    },\n    {\n      \"column\": \"box2_col\",\n      \"properties\": {\n        \"dtype\": \"number\",\n        \"std\": 12,\n        \"min\": 0,\n        \"max\": 45,\n        \"num_unique_values\": 46,\n        \"samples\": [\n          6,\n          2,\n          31\n        ],\n        \"semantic_type\": \"\",\n        \"description\": \"\"\n      }\n    },\n    {\n      \"column\": \"box1_within_bounds\",\n      \"properties\": {\n        \"dtype\": \"boolean\",\n        \"num_unique_values\": 1,\n        \"samples\": [\n          true\n        ],\n        \"semantic_type\": \"\",\n        \"description\": \"\"\n      }\n    },\n    {\n      \"column\": \"box2_within_bounds\",\n      \"properties\": {\n        \"dtype\": \"boolean\",\n        \"num_unique_values\": 1,\n        \"samples\": [\n          true\n        ],\n        \"semantic_type\": \"\",\n        \"description\": \"\"\n      }\n    }\n  ]\n}"
            }
          },
          "metadata": {},
          "execution_count": 9
        }
      ]
    },
    {
      "cell_type": "code",
      "source": [
        "print(f\"There is {invalid_boxes.shape[0]} images that have invalid boxes\")"
      ],
      "metadata": {
        "id": "MUFCVNm_80SP",
        "outputId": "c2470d12-dc76-405d-9296-de7671c80b76",
        "colab": {
          "base_uri": "https://localhost:8080/"
        }
      },
      "execution_count": 10,
      "outputs": [
        {
          "output_type": "stream",
          "name": "stdout",
          "text": [
            "There is 0 images that have invalid boxes\n"
          ]
        }
      ]
    },
    {
      "cell_type": "code",
      "source": [
        "x_cp = y.copy(deep=True)"
      ],
      "metadata": {
        "id": "6UNCAD7IBfS5"
      },
      "execution_count": 11,
      "outputs": []
    },
    {
      "cell_type": "code",
      "source": [
        "def img_normalize(image_orig, min_norm, max_norm):\n",
        "    val_max = 255.0\n",
        "    val_min = 0.0\n",
        "    range = val_max - val_min\n",
        "    image_normalized = (image_orig - val_min) / range\n",
        "    range2 = max_norm - min_norm\n",
        "    image_normalized = (image_normalized*range2) + min_norm\n",
        "    return image_normalized"
      ],
      "metadata": {
        "id": "usVEkwtlbyyy"
      },
      "execution_count": 12,
      "outputs": []
    },
    {
      "cell_type": "code",
      "source": [
        "fig, axes = plt.subplots(1, 2, figsize=(6, 10))\n",
        "axes[0].imshow(x_cp.iloc[0]['image'][:,:,:3])\n",
        "axes[0].set_title('Original picture [0,255]')\n",
        "axes[0].axis('off')\n",
        "axes[1].imshow(img_normalize(x_cp.iloc[0]['image'], 0, 1))\n",
        "axes[1].set_title('Normalized picture [0,1]')\n",
        "axes[1].axis('off')\n",
        "plt.show()"
      ],
      "metadata": {
        "id": "sT_JtOJrgDw5",
        "outputId": "0e6e5ccc-6b98-477b-b0e0-275cca3d7ff9",
        "colab": {
          "base_uri": "https://localhost:8080/",
          "height": 270
        }
      },
      "execution_count": 13,
      "outputs": [
        {
          "output_type": "display_data",
          "data": {
            "text/plain": [
              "<Figure size 600x1000 with 2 Axes>"
            ],
            "image/png": "[encoded data removed]"
          },
          "metadata": {}
        }
      ]
    },
    {
      "cell_type": "code",
      "source": [
        "import numpy as np\n",
        "def draw_masks(image, csv_row , box_size):\n",
        "    col1, row1, col2, row2 = csv_row['box1_col'], csv_row['box1_row'], csv_row['box2_col'], csv_row['box2_row']\n",
        "\n",
        "    mask = np.zeros(img_size)\n",
        "    mask[row1:row1+box_size[0], col1:col1+box_size[1]] = 1\n",
        "    img_cp = image.copy()\n",
        "\n",
        "    #gaussian\n",
        "    gaussian_noise = np.random.normal(0, 1, img_cp.shape)\n",
        "    mean_pixel_value = np.mean(image, axis=(0, 1), keepdims=True)\n",
        "    noise_centered_at_mean = mean_pixel_value + gaussian_noise\n",
        "\n",
        "    img_cp[mask == 1] = gaussian_noise[mask == 1]\n",
        "\n",
        "    img_cp = img_normalize(img_cp, 0, 1)\n",
        "\n",
        "    mask = mask[:, :, np.newaxis]\n",
        "    rgbm_image = np.concatenate((img_cp, mask), axis=2)\n",
        "\n",
        "    return rgbm_image"
      ],
      "metadata": {
        "id": "6RP8FJGSIBFa"
      },
      "execution_count": 14,
      "outputs": []
    },
    {
      "cell_type": "code",
      "source": [
        "x_cp['image'] = x_cp.apply(lambda row: draw_masks(row['image'], csv[csv['filename'] == row['filename']].iloc[0], box_size), axis = 1)"
      ],
      "metadata": {
        "id": "aIsiLW2P9gBN"
      },
      "execution_count": 15,
      "outputs": []
    },
    {
      "cell_type": "code",
      "source": [
        "show_img(x_cp.iloc[0]['image'][:,:,:3])"
      ],
      "metadata": {
        "id": "XlktMZK7J4yN",
        "outputId": "20f98a36-4f9a-4707-e7ef-3bbece84347b",
        "colab": {
          "base_uri": "https://localhost:8080/",
          "height": 406
        }
      },
      "execution_count": 16,
      "outputs": [
        {
          "output_type": "display_data",
          "data": {
            "text/plain": [
              "<Figure size 640x480 with 1 Axes>"
            ],
            "image/png": "[encoded data removed]"
          },
          "metadata": {}
        }
      ]
    },
    {
      "cell_type": "code",
      "source": [
        "merged_data = pd.merge(x_cp, csv, on='filename')\n",
        "merged_data = pd.merge(merged_data, y, on = 'filename')"
      ],
      "metadata": {
        "id": "E5O7eZci99vS"
      },
      "execution_count": 17,
      "outputs": []
    },
    {
      "cell_type": "code",
      "source": [
        "final_table_columns = ['filename', 'image_x', 'image_y', 'box2_row', 'box2_col']\n",
        "train_df = merged_data.drop(columns=[col for col in merged_data if col not in final_table_columns])"
      ],
      "metadata": {
        "id": "RqHW5P1C-B5o"
      },
      "execution_count": 18,
      "outputs": []
    },
    {
      "cell_type": "code",
      "source": [
        "def crop_box(rgbm, y_img):\n",
        "  mask = rgbm[:,:,3]\n",
        "  rows, cols = np.where(mask == 1)\n",
        "\n",
        "  min_row, max_row = np.min(rows), np.max(rows)\n",
        "  min_col, max_col = np.min(cols), np.max(cols)\n",
        "\n",
        "  return y_img[min_row:max_row + 1, min_col:max_col + 1, :]\n"
      ],
      "metadata": {
        "id": "nC-hY7a4lUQ9"
      },
      "execution_count": 19,
      "outputs": []
    },
    {
      "cell_type": "code",
      "source": [
        "train_df['image_y'] = img_normalize(train_df['image_y'], 0, 1)\n",
        "train_df['image_y_crop'] = train_df.apply(lambda row: crop_box(row['image_x'], row['image_y']), axis = 1)"
      ],
      "metadata": {
        "id": "TV6OvwppjVwW"
      },
      "execution_count": 20,
      "outputs": []
    },
    {
      "cell_type": "code",
      "source": [
        "#train_df.head(5)"
      ],
      "metadata": {
        "id": "BWYbCzFXNtO7"
      },
      "execution_count": 21,
      "outputs": []
    },
    {
      "cell_type": "markdown",
      "source": [
        "# Networks"
      ],
      "metadata": {
        "id": "bsRp00jRr1pq"
      }
    },
    {
      "cell_type": "code",
      "source": [
        "from tensorflow.keras.layers import Conv2D, Dense, Flatten, Activation, Reshape\n",
        "from tensorflow.keras.models import Sequential"
      ],
      "metadata": {
        "id": "cTKCuFCWr04h"
      },
      "execution_count": 22,
      "outputs": []
    },
    {
      "cell_type": "markdown",
      "source": [
        "## CNN"
      ],
      "metadata": {
        "id": "o6zbw19Qrtur"
      }
    },
    {
      "cell_type": "code",
      "source": [
        "euclidean_model_1 = Sequential()\n",
        "\n",
        "euclidean_model_1.add(Conv2D(64, kernel_size=3, activation='relu', padding='same', input_shape=(img_size[0], img_size[1], 4)))\n",
        "for i in range(9):\n",
        "  if (i + 1) % 3 == 0:\n",
        "     euclidean_model_1.add(Conv2D(64, kernel_size=3, padding='same', strides=2, activation='relu'))\n",
        "  else:\n",
        "    euclidean_model_1.add(Conv2D(64, kernel_size=3, padding='same', activation='relu'))\n",
        "\n",
        "euclidean_model_1.add(Flatten())\n",
        "euclidean_model_1.add(Dense(box_size[0]*box_size[1]*3, activation='relu'))\n",
        "euclidean_model_1.add(Activation('sigmoid'))\n",
        "euclidean_model_1.compile(loss='mse', optimizer='adam', metrics=['mae'])"
      ],
      "metadata": {
        "id": "qJi5Jtxqrwt2"
      },
      "execution_count": 23,
      "outputs": []
    },
    {
      "cell_type": "code",
      "source": [
        "from keras.optimizers import Adam\n",
        "from keras.callbacks import LearningRateScheduler\n",
        "from keras import backend as K\n",
        "\n",
        "def lr_schedule(epoch):\n",
        "  model = euclidean_model_1 #change before model fit\n",
        "  lr = K.get_value(model.optimizer.lr)\n",
        "  if epoch % 5 == 0 and epoch > 0:\n",
        "      K.set_value(model.optimizer.lr, lr * 0.8)\n",
        "      print(f\"Learning rate reduced to: {lr * 0.8}\")\n",
        "  return K.get_value(model.optimizer.lr)\n",
        "\n",
        "batch_size = 64\n",
        "weight_decay = 0.005\n",
        "lr_scheduler = LearningRateScheduler(lr_schedule)"
      ],
      "metadata": {
        "id": "usbIrGMiv6b_"
      },
      "execution_count": 24,
      "outputs": []
    },
    {
      "cell_type": "code",
      "source": [
        "print(type(train_df.iloc[0]['image_y']))\n",
        "print(train_df.iloc[0]['image_y'].shape)"
      ],
      "metadata": {
        "colab": {
          "base_uri": "https://localhost:8080/"
        },
        "id": "BZAlSKejv37p",
        "outputId": "19911f01-755a-46f2-bfac-07158eea5e3e"
      },
      "execution_count": 25,
      "outputs": [
        {
          "output_type": "stream",
          "name": "stdout",
          "text": [
            "<class 'numpy.ndarray'>\n",
            "(64, 64, 3)\n"
          ]
        }
      ]
    },
    {
      "cell_type": "code",
      "source": [
        "lr_scheduler = LearningRateScheduler(lr_schedule)\n",
        "batch_size = 16\n",
        "epochs = 5"
      ],
      "metadata": {
        "id": "KWEp-sM8Cm1Z"
      },
      "execution_count": 26,
      "outputs": []
    },
    {
      "cell_type": "code",
      "source": [
        "X_train = np.stack(train_df['image_x'].values)\n",
        "y_train = np.stack(train_df['image_y_crop'].values)\n",
        "y_train = y_train.reshape(y_train.shape[0],box_size[0]*box_size[1]*3)"
      ],
      "metadata": {
        "id": "kH_rGc0sCyy8"
      },
      "execution_count": 28,
      "outputs": []
    },
    {
      "cell_type": "code",
      "source": [
        "print('x: ', np.max(X_train))\n",
        "print('y: ', np.max(y_train))"
      ],
      "metadata": {
        "colab": {
          "base_uri": "https://localhost:8080/"
        },
        "id": "eE117-ARPnsW",
        "outputId": "94b78128-6768-45de-edd4-d288957545c7"
      },
      "execution_count": 29,
      "outputs": [
        {
          "output_type": "stream",
          "name": "stdout",
          "text": [
            "x:  1.0\n",
            "y:  1.0\n"
          ]
        }
      ]
    },
    {
      "cell_type": "code",
      "source": [
        "#X_train = X_train / 255.0\n",
        "#y_train = y_train / 255.0"
      ],
      "metadata": {
        "id": "ikv3EQ0IPrLn"
      },
      "execution_count": null,
      "outputs": []
    },
    {
      "cell_type": "code",
      "source": [
        "history = euclidean_model_1.fit(\n",
        "    X_train, y_train,\n",
        "    batch_size=batch_size,\n",
        "    epochs=epochs,\n",
        "    callbacks=[lr_scheduler],\n",
        "    validation_split=0.2\n",
        ")\n",
        "\n"
      ],
      "metadata": {
        "id": "UwcOvkFZwN8K",
        "colab": {
          "base_uri": "https://localhost:8080/"
        },
        "outputId": "8551d035-e066-4922-b6ed-fd207f028749"
      },
      "execution_count": 30,
      "outputs": [
        {
          "output_type": "stream",
          "name": "stdout",
          "text": [
            "Epoch 1/5\n",
            "88/88 [==============================] - 121s 1s/step - loss: 0.0732 - mae: 0.2290 - val_loss: 0.0716 - val_mae: 0.2265 - lr: 0.0010\n",
            "Epoch 2/5\n",
            "88/88 [==============================] - 112s 1s/step - loss: 0.0705 - mae: 0.2241 - val_loss: 0.0706 - val_mae: 0.2268 - lr: 0.0010\n",
            "Epoch 3/5\n",
            "88/88 [==============================] - 115s 1s/step - loss: 0.0654 - mae: 0.2130 - val_loss: 0.0658 - val_mae: 0.2139 - lr: 0.0010\n",
            "Epoch 4/5\n",
            "88/88 [==============================] - 113s 1s/step - loss: 0.0621 - mae: 0.2053 - val_loss: 0.0657 - val_mae: 0.2161 - lr: 0.0010\n",
            "Epoch 5/5\n",
            "88/88 [==============================] - 112s 1s/step - loss: 0.0618 - mae: 0.2046 - val_loss: 0.0646 - val_mae: 0.2134 - lr: 0.0010\n"
          ]
        }
      ]
    },
    {
      "cell_type": "code",
      "source": [
        "import pickle\n",
        "\n",
        "def save_history(history, path):\n",
        "  with open(path, 'wb') as f:\n",
        "    pickle.dump(history, f)"
      ],
      "metadata": {
        "id": "K4hjCa1XDrrE"
      },
      "execution_count": 31,
      "outputs": []
    },
    {
      "cell_type": "code",
      "source": [
        "MODEL_PATH = \"/content/drive/MyDrive/Colab Notebooks/ImageInpainting/CNN/trained-models\"\n",
        "HISTORY_PATH = \"/content/drive/MyDrive/Colab Notebooks/ImageInpainting/CNN/history\""
      ],
      "metadata": {
        "id": "nE7bj6HUD3s9"
      },
      "execution_count": 32,
      "outputs": []
    },
    {
      "cell_type": "code",
      "source": [
        "euclidean_model_1.save(MODEL_PATH + \"/euclidean_model_1.keras\")\n",
        "save_history(history.history, HISTORY_PATH + \"/euclidean_model_64_history.pkl\")"
      ],
      "metadata": {
        "id": "9X1fbKuVDsqH"
      },
      "execution_count": 33,
      "outputs": []
    },
    {
      "cell_type": "markdown",
      "source": [
        "# Monitoring - History of loss function"
      ],
      "metadata": {
        "id": "UnSf3krPjxTa"
      }
    },
    {
      "cell_type": "code",
      "source": [
        "def load_history(path):\n",
        "  with open(path, \"rb\") as file:\n",
        "    return pickle.load(file)"
      ],
      "metadata": {
        "id": "zRa6jBjAj0q-"
      },
      "execution_count": 34,
      "outputs": []
    },
    {
      "cell_type": "code",
      "source": [
        "h1 = load_history(HISTORY_PATH + \"/euclidean_model_64_history.pkl\")"
      ],
      "metadata": {
        "id": "xfTAf7pnj1ml"
      },
      "execution_count": 35,
      "outputs": []
    },
    {
      "cell_type": "code",
      "source": [
        "fig, axes = plt.subplots(2, 2, figsize=(10, 8))\n",
        "\n",
        "axes[0, 0].plot(h1['loss'])\n",
        "axes[0, 0].plot(h1['val_loss'])\n",
        "axes[0, 0].set_title('History of euclidean model 64')\n",
        "axes[0, 0].set_xlabel('epoch')\n",
        "axes[0, 0].set_ylabel('loss')\n",
        "axes[0, 0].legend(['Training', 'Validation'])\n",
        "plt.tight_layout()\n",
        "plt.show()"
      ],
      "metadata": {
        "id": "FnYjF4wbj-yk",
        "outputId": "ae08ab2b-f9b6-4cfb-c4a9-36ec8d772ece",
        "colab": {
          "base_uri": "https://localhost:8080/",
          "height": 744
        }
      },
      "execution_count": 36,
      "outputs": [
        {
          "output_type": "display_data",
          "data": {
            "text/plain": [
              "<Figure size 1000x800 with 4 Axes>"
            ],
            "image/png": "[encoded data removed]"
          },
          "metadata": {}
        }
      ]
    },
    {
      "cell_type": "markdown",
      "source": [
        "# Predictions"
      ],
      "metadata": {
        "id": "CyBNS9v-lVj2"
      }
    },
    {
      "cell_type": "code",
      "source": [
        "from keras.models import load_model\n",
        "\n",
        "euc1_model = load_model(MODEL_PATH + \"/euclidean_model_1.keras\")"
      ],
      "metadata": {
        "id": "GkUJWIykkFWt"
      },
      "execution_count": 37,
      "outputs": []
    },
    {
      "cell_type": "code",
      "source": [
        "x = X_train[0:5]"
      ],
      "metadata": {
        "id": "AS6RREt-7Sps"
      },
      "execution_count": 38,
      "outputs": []
    },
    {
      "cell_type": "code",
      "source": [
        "pred = euc1_model.predict(x)"
      ],
      "metadata": {
        "id": "fOlSVDhbvbkX",
        "outputId": "ee538977-1760-4913-a588-6ef2ceb3b362",
        "colab": {
          "base_uri": "https://localhost:8080/"
        }
      },
      "execution_count": 39,
      "outputs": [
        {
          "output_type": "stream",
          "name": "stdout",
          "text": [
            "1/1 [==============================] - 0s 244ms/step\n"
          ]
        }
      ]
    },
    {
      "cell_type": "code",
      "source": [
        "def full_image(x_rgbm_img, y_img):\n",
        "  modified_image = np.copy(x_rgbm_img[:, :, :3])\n",
        "  mask = x_rgbm_img[:,:,3]\n",
        "\n",
        "  coords = np.argwhere(mask == 1)\n",
        "\n",
        "  x_min = np.min(coords[:, 0])\n",
        "  y_min = np.min(coords[:, 1])\n",
        "\n",
        "  modified_image[x_min:x_min+box_size[0], y_min:y_min+box_size[1], :] = y_img\n",
        "\n",
        "  return modified_image\n",
        "\n",
        "def reconstruct_img(data):\n",
        "  if sum(data.shape) == 675:\n",
        "    return np.reshape(data, (box_size[0], box_size[1], 3))\n",
        "  else:\n",
        "    num_samples = data.shape[0]\n",
        "    return y_train.reshape(num_samples, box_size[0], box_size[1], 3)"
      ],
      "metadata": {
        "id": "-mKuz8HAmJzv"
      },
      "execution_count": 41,
      "outputs": []
    },
    {
      "cell_type": "code",
      "source": [
        "img_ind = 2\n",
        "show_img(full_image(x[img_ind],reconstruct_img(pred[img_ind])))"
      ],
      "metadata": {
        "id": "5GrHjk-_55Mv",
        "outputId": "2eb10297-d6f5-4bef-8dbf-009bb9eec151",
        "colab": {
          "base_uri": "https://localhost:8080/",
          "height": 406
        }
      },
      "execution_count": 48,
      "outputs": [
        {
          "output_type": "display_data",
          "data": {
            "text/plain": [
              "<Figure size 640x480 with 1 Axes>"
            ],
            "image/png": "[encoded data removed]"
          },
          "metadata": {}
        }
      ]
    },
    {
      "cell_type": "markdown",
      "source": [
        "# GAN"
      ],
      "metadata": {
        "id": "JvHgxrkw7KNx"
      }
    },
    {
      "cell_type": "code",
      "source": [
        "import torch\n",
        "from torch import nn\n",
        "\n",
        "import math\n",
        "torch.manual_seed(42)"
      ],
      "metadata": {
        "id": "qB2r5yXX7L3E",
        "outputId": "85ec6b33-a69a-4494-e508-1983a995a277",
        "colab": {
          "base_uri": "https://localhost:8080/"
        }
      },
      "execution_count": 49,
      "outputs": [
        {
          "output_type": "execute_result",
          "data": {
            "text/plain": [
              "<torch._C.Generator at 0x7ab55a4a76b0>"
            ]
          },
          "metadata": {},
          "execution_count": 49
        }
      ]
    },
    {
      "cell_type": "code",
      "source": [
        "y_train.shape"
      ],
      "metadata": {
        "id": "mUy4d6AiKjEa",
        "outputId": "11bb129e-52ac-4cf9-a5eb-f2cf06734b69",
        "colab": {
          "base_uri": "https://localhost:8080/"
        }
      },
      "execution_count": 50,
      "outputs": [
        {
          "output_type": "execute_result",
          "data": {
            "text/plain": [
              "(1750, 675)"
            ]
          },
          "metadata": {},
          "execution_count": 50
        }
      ]
    },
    {
      "cell_type": "code",
      "source": [
        "X_train.shape"
      ],
      "metadata": {
        "id": "9Of1C_yNqNhH",
        "outputId": "9158f57e-1917-4130-9016-d78924ec48e5",
        "colab": {
          "base_uri": "https://localhost:8080/"
        }
      },
      "execution_count": 51,
      "outputs": [
        {
          "output_type": "execute_result",
          "data": {
            "text/plain": [
              "(1750, 64, 64, 4)"
            ]
          },
          "metadata": {},
          "execution_count": 51
        }
      ]
    },
    {
      "cell_type": "code",
      "source": [
        "train_data = torch.tensor(X_train)\n",
        "y_train_gan = np.stack(train_df['image_y'].values)\n",
        "num_samples = X_train.shape[0]\n",
        "train_labels = torch.tensor(y_train_gan, dtype=torch.float32).view(num_samples, -1)\n",
        "train_set = [\n",
        "    (train_data[i], train_labels[i]) for i in range(num_samples)\n",
        "]"
      ],
      "metadata": {
        "id": "xbPHTdCKBT2K"
      },
      "execution_count": 54,
      "outputs": []
    }
  ]
}