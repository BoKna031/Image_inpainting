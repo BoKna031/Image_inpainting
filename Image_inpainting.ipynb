{
  "nbformat": 4,
  "nbformat_minor": 0,
  "metadata": {
    "colab": {
      "provenance": [],
      "authorship_tag": "ABX9TyMzDj1KfTPzvJVzQfnjVEza",
      "include_colab_link": true
    },
    "kernelspec": {
      "name": "python3",
      "display_name": "Python 3"
    },
    "language_info": {
      "name": "python"
    }
  },
  "cells": [
    {
      "cell_type": "markdown",
      "metadata": {
        "id": "view-in-github",
        "colab_type": "text"
      },
      "source": [
        "<a href=\"https://colab.research.google.com/github/BoKna031/Image_inpainting/blob/master/Image_inpainting.ipynb\" target=\"_parent\"><img src=\"https://colab.research.google.com/assets/colab-badge.svg\" alt=\"Open In Colab\"/></a>"
      ]
    },
    {
      "cell_type": "markdown",
      "source": [
        "# Connect to Kaggle dataset"
      ],
      "metadata": {
        "id": "BvAMCySwiWzx"
      }
    },
    {
      "cell_type": "code",
      "execution_count": null,
      "metadata": {
        "id": "4Kz3jYZ_e5jS"
      },
      "outputs": [],
      "source": [
        "! pip install -q kaggle\n",
        "! mkdir ~/.kaggle\n",
        "! cp kaggle.json ~/.kaggle/\n",
        "! chmod 600 ~/.kaggle/kaggle.json\n",
        "#! kaggle datasets list"
      ]
    },
    {
      "cell_type": "code",
      "source": [
        "!kaggle datasets download -d amanara/photos"
      ],
      "metadata": {
        "id": "fQ5nH5PiigSi",
        "outputId": "9eb68164-ac11-4833-c1cc-5e13652f4f69",
        "colab": {
          "base_uri": "https://localhost:8080/"
        }
      },
      "execution_count": 6,
      "outputs": [
        {
          "output_type": "stream",
          "name": "stdout",
          "text": [
            "Warning: Looks like you're using an outdated API Version, please consider updating (server 1.6.14 / client 1.6.12)\n",
            "Dataset URL: https://www.kaggle.com/datasets/amanara/photos\n",
            "License(s): unknown\n",
            "Downloading photos.zip to /content\n",
            "100% 273M/274M [00:07<00:00, 12.5MB/s]\n",
            "100% 274M/274M [00:07<00:00, 40.4MB/s]\n"
          ]
        }
      ]
    },
    {
      "cell_type": "code",
      "source": [
        "!unzip photos.zip;"
      ],
      "metadata": {
        "id": "0TMtioD6jBRk",
        "outputId": "1ce44706-b19a-4527-986d-215211fa9c66",
        "colab": {
          "base_uri": "https://localhost:8080/"
        }
      },
      "execution_count": 9,
      "outputs": [
        {
          "output_type": "stream",
          "name": "stdout",
          "text": [
            "Archive:  photos.zip\n",
            "replace Dataset/Testing_Data/Cat-Train (1).png? [y]es, [n]o, [A]ll, [N]one, [r]ename: "
          ]
        }
      ]
    },
    {
      "cell_type": "markdown",
      "source": [
        "# Data preparation"
      ],
      "metadata": {
        "id": "cQfLL1RukasJ"
      }
    },
    {
      "cell_type": "code",
      "source": [
        "import os\n",
        "import cv2\n",
        "import pandas as pd\n",
        "import matplotlib.pyplot as plt\n",
        "\n",
        "def load_training_dataset(category):\n",
        "  TRAINING_DATA_FOLDER = os.path.join('Dataset', 'Training_Data', category)\n",
        "  x_doc = os.path.join('Dataset', 'Training_Data', category, 'Masked_Train')\n",
        "  x_imgs = _load_images_from_folder(x_doc)\n",
        "  y_doc = os.path.join('Dataset', 'Training_Data', category, 'Unmasked_Train')\n",
        "  y_imgs = _load_images_from_folder(y_doc)\n",
        "  csv_file = pd.read_csv(os.path.join(TRAINING_DATA_FOLDER, 'masked_info.csv'))\n",
        "  return x_imgs, y_imgs, csv_file\n",
        "\n",
        "def _load_images_from_folder(folder):\n",
        "    images = []\n",
        "    for filename in os.listdir(folder):\n",
        "        if filename.endswith(\".jpg\") or filename.endswith(\".jpeg\"):\n",
        "            img = cv2.imread(os.path.join(folder, filename))\n",
        "            if img is not None:\n",
        "              category, id, set_type, format = _parse_filename(filename)\n",
        "              images.append({'filename': filename, 'category': category, 'id': id, 'set_type': set_type, 'format': format, 'image': img})\n",
        "    images_df = pd.DataFrame(images, columns=['filename', 'category', 'id', 'set_type', 'format', 'image']).set_index('filename')\n",
        "    return images_df\n",
        "\n",
        "import re\n",
        "\n",
        "def _parse_filename(filename):\n",
        "    regex_pattern = r'^(?P<Category>\\w+)-(?P<Set_Type>\\w+)\\s\\((?P<ID>\\d+)\\)\\.(?P<Format>\\w+)$'\n",
        "\n",
        "    match = re.match(regex_pattern, filename)\n",
        "\n",
        "    if match:\n",
        "        category = match.group('Category')\n",
        "        set_type = match.group('Set_Type')\n",
        "        id = int(match.group('ID'))\n",
        "        format = match.group('Format')\n",
        "        return category, id, set_type, format\n",
        "    else:\n",
        "        return None, None, None, None\n",
        "\n",
        "def show_img(img, gray = False):\n",
        "  if gray:\n",
        "    plt.imshow(img, 'gray')\n",
        "  else:\n",
        "    plt.imshow(img)\n",
        "  plt.axis('off')\n",
        "  plt.show()\n"
      ],
      "metadata": {
        "id": "ZeT6LgXzjLku"
      },
      "execution_count": 48,
      "outputs": []
    },
    {
      "cell_type": "code",
      "source": [
        "categories = ['Cat', 'Dog', 'Elephant', 'Tiger']"
      ],
      "metadata": {
        "id": "wVlCRIZBqi-z"
      },
      "execution_count": 27,
      "outputs": []
    },
    {
      "cell_type": "code",
      "source": [
        "x, y, csv = load_training_dataset(categories[0])"
      ],
      "metadata": {
        "id": "E7nkulc4sa0b"
      },
      "execution_count": 49,
      "outputs": []
    },
    {
      "cell_type": "code",
      "source": [
        "x.iloc[0]"
      ],
      "metadata": {
        "id": "Ccm0OlOQtNYo",
        "outputId": "eef96207-5253-4a7d-ef66-d41833edede9",
        "colab": {
          "base_uri": "https://localhost:8080/"
        }
      },
      "execution_count": 51,
      "outputs": [
        {
          "output_type": "execute_result",
          "data": {
            "text/plain": [
              "category                                                  Cat\n",
              "id                                                       1298\n",
              "set_type                                                Train\n",
              "format                                                   jpeg\n",
              "image       [[[39, 71, 60], [20, 52, 41], [15, 46, 37], [1...\n",
              "Name: Cat-Train (1298).jpeg, dtype: object"
            ]
          },
          "metadata": {},
          "execution_count": 51
        }
      ]
    },
    {
      "cell_type": "code",
      "source": [
        "x.iloc[0]['filename']"
      ],
      "metadata": {
        "id": "wSfC4Up4wmmo",
        "outputId": "be1caee5-d49a-4930-dcca-c78cb7c26874",
        "colab": {
          "base_uri": "https://localhost:8080/",
          "height": 36
        }
      },
      "execution_count": 46,
      "outputs": [
        {
          "output_type": "execute_result",
          "data": {
            "text/plain": [
              "'Cat-Train (1298).jpeg'"
            ],
            "application/vnd.google.colaboratory.intrinsic+json": {
              "type": "string"
            }
          },
          "metadata": {},
          "execution_count": 46
        }
      ]
    }
  ]
}